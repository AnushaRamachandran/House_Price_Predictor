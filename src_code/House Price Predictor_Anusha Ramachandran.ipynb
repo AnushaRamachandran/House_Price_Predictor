{
 "cells": [
  {
   "cell_type": "markdown",
   "metadata": {},
   "source": [
    "# House Price Predictor\n",
    "#### Author: Anusha Ramachandran"
   ]
  },
  {
   "cell_type": "markdown",
   "metadata": {},
   "source": [
    "---\n",
    "\n",
    "## Table of Contents\n",
    "[Project description](#Description)  \n",
    "[Introduction](#Introduction)  \n",
    "[Exploratory Data Analysis](#EDA)  \n",
    "[Model fit to training data, checking assumptions](#Model_fit)  \n",
    "[Hypothesis tests](#Hyp_tests)  \n",
    "[Using the model for prediction](#Prediction)  \n",
    "[Comparing to other candidate models](#Compare) \n",
    "[Discussion](#Discussion)\n",
    "\n",
    "\n",
    "[Visualizing appropriate transformations](#Transformations)  \n",
    "[Other candidate models](#Other_models)\n",
    "\n",
    "---"
   ]
  },
  {
   "cell_type": "markdown",
   "metadata": {},
   "source": [
    "<a id=\"Description\"></a>\n",
    "## Project description\n",
    "\n",
    "You will develop a multiple linear regression model to predict sale price of houses (\\\\$ CAD) in Vancouver using the following potential candidate quantitative variables:  \n",
    "- Days on market (days)\n",
    "- Total floor area (square feet)\n",
    "- Age (years); this is calculated from Year Built so you do not need to use Year Built\n",
    "- Lot Size (square feet)\n",
    "\n",
    "The data was collected from detached homes with sale prices of at most \\\\$3 million in 2019 and early 2020, prior to any impacts of the pandemic on the real estate market in Vancouver.  Note that because we are excluding all houses with prices over \\\\$3 million, the data may appear truncated.  \n",
    "\n",
    "Assume that we are trying to predict sale price for the same time period that the data was collected. Consider how predicting sale price could be valuable for realtors representing both house sellers and house buyers.  \n",
    "\n",
    "### Methods  \n",
    "  \n",
    "First, you will divide the dataset into a training set and a validation set. You will use the training set to develop your model. You can transform variables as appropriate. Note that if you transform age using a power transformation or a log transformation, you should add 1 year to all the values of age first.   \n",
    "  \n",
    "You will conduct exploratory data analysis, visualizing the relationships between the variables. You should include code for visualizing appropriate transformations at the end of the project.  \n",
    "\n",
    "In the main part of the project, you will present the results of your best model (referred to as the final model), which you will choose by considering the following:\n",
    "- checking assumptions are met\n",
    "- assessing goodness of fit to the training set\n",
    "- considering the variables and complexity of the model\n",
    "- assessing how well the model predicts new data (using the validation set as new data)\n",
    "\n",
    "Before creating any models, you should consider is the objective and which variables you would have access to when attempting to use the model to create predictions.\n",
    "\n",
    "At the end of the project, you should include code for any other candidate models that you considered. \n",
    "  \n",
    "You will discuss the strengths and limitations of your final model, and provide any recommendations to address the limitations.\n",
    "\n",
    "---"
   ]
  },
  {
   "cell_type": "markdown",
   "metadata": {},
   "source": [
    "### Make sure that your code is organized. Includes useful annotations and written descriptions of what you are seeing on plots or the conclusions that you are drawing. (1 mark)\n",
    "---"
   ]
  },
  {
   "cell_type": "markdown",
   "metadata": {},
   "source": [
    "<a id=\"Introduction\"></a>\n",
    "# Introduction (300 words max.) (2.5 marks) - Part A\n",
    "\n",
    "What to include: objective and purpose of the analysis, background information, and the benefit of having and using a model to accurately predict price.  \n",
    "  \n",
    "If you include any references, please put the bibliographical information (APA style) at the end of your introduction; this does not contribute to the word count.\n",
    "</code> \n",
    "\n",
    "---"
   ]
  },
  {
   "cell_type": "markdown",
   "metadata": {
    "tags": []
   },
   "source": [
    "## Objective and Purpose of analysis\n",
    "\n",
    "The objective of the analysis is to create a regression model for predicting housing prices accurately- thus benefiting both realtors buying and selling the houses.\n",
    "\n",
    "## Background Information\n",
    "\n",
    "As the third largest city in Canada, Vancouver is receiving a large number of investments from all over the world from year to year, and housing is one of the most important trades. However, the price of houses in Vancouver had been fluctuating over time. Therefore, we will use the data collected from detached homes in 2019 and early 2020 on the real estate market in Vancouver to conduct an analysis regarding house prices in Vancouver.\n",
    "\n",
    "In this project, we will develop a multiple linear regression model to explore the relationship between days on market, total floor area, age, lot size, and house prices in Vancouver, as well as use the relationship we found to predict the house price. \n",
    "\n",
    "## Benefit of using a model\n",
    "\n",
    "Using this multiple linear regression model will allow people to have a better knowledge of the factors that are influencing house prices, help to improve the accuracy of price predictions, and enables the realtors to cope with price volatility, which is an essential parameter in the price assessment in long run. In this case, the investors can have a better target on alternatives and prediction of price and use the model to determine what price to offer. It would also help the sellers to have a better estimation of the selling price, thus, eliminating the discrepancies and facilitating transparency in the market."
   ]
  },
  {
   "cell_type": "code",
   "execution_count": 148,
   "metadata": {
    "scrolled": true
   },
   "outputs": [],
   "source": [
    "# Import the data:\n",
    "mydata <- read.csv(file=\"House sale data Vancouver.csv\", header=TRUE)"
   ]
  },
  {
   "cell_type": "markdown",
   "metadata": {},
   "source": [
    "---\n",
    "*The dataset includes the following variables:*\n",
    "- Number: if your observations get out of order, please sort by Number to get them back in the correct order so that everyone will work with the same training set and validation set.\n",
    "- Address: Address of the house.\n",
    "- List.Date: The date that the house was listed for sale\n",
    ".\n",
    "- Price: The final sale price of the house (\\\\$ CAD). Note that this may differ from what the original asking price was.\n",
    "- Days.on.market: how many days the house was on the market before it sold.\n",
    "- Total.floor.area: the total area in square feet of the finished living space, including kitchen, bathrooms, living room, bedrooms, etc. on all floors of the house\n",
    "- Year.Built: the year when the house was built.\n",
    "- Age: calculated from Year.Built to represent the house age around the time of sale.\n",
    "- Lot.size: the size of the lot in square feet. This includes the area of the footprint of the house, and the area of any yard or garden.\n",
    "---"
   ]
  },
  {
   "cell_type": "code",
   "execution_count": 149,
   "metadata": {},
   "outputs": [],
   "source": [
    "# Create a training set and a validation set using the following code\n",
    "# This will divide the dataset into ~80% training set (1042 observations)\n",
    "# and ~ 20% validation set (260 observations)\n",
    "\n",
    "# DO NOT MODIFY THIS CODE!\n",
    "\n",
    "mydata.train <- mydata[1:1042,]\n",
    "mydata.valid <- mydata[1043:nrow(mydata),]"
   ]
  },
  {
   "cell_type": "markdown",
   "metadata": {},
   "source": [
    "---\n",
    "<a id=\"EDA\"></a>\n",
    "# Exploratory data analysis (4 marks) - Part A\n",
    "\n",
    "</code> \n"
   ]
  },
  {
   "cell_type": "markdown",
   "metadata": {},
   "source": [
    "## --------------------------------------Price vs Days on Market ----------------------------------"
   ]
  },
  {
   "cell_type": "code",
   "execution_count": 150,
   "metadata": {},
   "outputs": [
    {
     "name": "stdout",
     "output_type": "stream",
     "text": [
      "[1] 1.213833e-05\n"
     ]
    },
    {
     "data": {
      "image/png": "[encoded data removed]",
      "text/plain": [
       "plot without title"
      ]
     },
     "metadata": {},
     "output_type": "display_data"
    }
   ],
   "source": [
    "plot(mydata.train$Days, mydata.train$Price, xlab=\"Days on market(days)\", ylab=\"House price ($)\", pch = 16)\n",
    "\n",
    "#drawing lowess line\n",
    "lines(lowess(mydata.train$Days, mydata.train$Price), col = \"blue\", lwd = 3)\n",
    "\n",
    "#drawing abline\n",
    "abline(lm(mydata.train$Price ~ mydata.train$Days), col = \"red\", lwd = 3)\n",
    "\n",
    "#marking outliers\n",
    "points(x=mydata.train$Days[mydata.train$Days>400],y=mydata.train$Price[mydata.train$Days>400],col='red',pch=16)\n",
    "\n",
    "#correlation, used to find strength \n",
    "print(cor(mydata.train$Days, mydata.train$Price)^2)"
   ]
  },
  {
   "cell_type": "markdown",
   "metadata": {},
   "source": [
    "## Association for Price vs. Days on Market\n",
    "#### Form: No obvious association between days on market and house price. \n",
    "#### Direction: the lowess line heads slightly downward.\n",
    "#### Strength: the strength of the association is very weak, since r^2 is only 1.213833e-05\n",
    "#### Outliers: While most houses listed in the dataset form a cluster when talking about the Days on market-Price relationship, there are a few which have been on the market for more than 400 days. These datapoints form the outliers. Potential reasons of why these are unable to be sold, causing to be out of the cluster of points can be: Distance of house from commonly accessed spots, lesser advertising perhaps, unavailability of transportation etc. "
   ]
  },
  {
   "cell_type": "markdown",
   "metadata": {},
   "source": [
    "## ------------------------------- Price vs. Floor Area------------------------------------"
   ]
  },
  {
   "cell_type": "code",
   "execution_count": 151,
   "metadata": {},
   "outputs": [
    {
     "name": "stdout",
     "output_type": "stream",
     "text": [
      "[1] 0.3423318\n"
     ]
    },
    {
     "data": {
      "image/png": "[encoded data removed]",
      "text/plain": [
       "plot without title"
      ]
     },
     "metadata": {},
     "output_type": "display_data"
    }
   ],
   "source": [
    "plot(mydata.train$Total.floor.area, mydata.train$Price, xlab=\"Floor Area (sq. feet)\", ylab=\"House price ($)\", pch = 16)\n",
    "\n",
    "#drawing lowess line\n",
    "lines(lowess(mydata.train$Total.floor.area, mydata.train$Price), col = \"blue\", lwd = 3)\n",
    "\n",
    "#drawing abline\n",
    "abline(lm(mydata.train$Price ~ mydata.train$Total.floor.area), col = \"red\", lwd = 3)\n",
    "\n",
    "#marking outliers\n",
    "points(x=mydata.train$Total.floor.area[mydata.train$Total.floor.area>5000],y=mydata.train$Price[mydata.train$Total.floor.area>5000],col='red',pch=16)\n",
    "points(x=mydata.train$Total.floor.area[mydata.train$Total.floor.area<400],y=mydata.train$Price[mydata.train$Total.floor.area<400],col='red',pch=16)\n",
    "\n",
    "#correlation, used to find strength \n",
    "print(cor(mydata.train$Total.floor.area, mydata.train$Price)^2)"
   ]
  },
  {
   "cell_type": "markdown",
   "metadata": {},
   "source": [
    "## Association for Price vs. Total Floor Area\n",
    "#### Form: there is linear relationship between floor area and house price. From range between 2000-4000 sq ft, the lowess line is steeper than the slope in range 0-2000 and 4000-6000 sq.ft.\n",
    "#### Direction: there is positive relationship because the lowess line goes upward.\n",
    "#### Strength: r^2 is 0.3423318, so the correlation is moderate. \n",
    "#### Outliers: Some of the outliers seen in this relationship are the ones with either extremely large or small floor area. Outliers from both of these categories can be seen at a considerably high house price range. Some of the reasons why these points are not a part of the main cluster could be: people aren't willing to buy very small houses for an exobirtant price, the higher area-higher price ones might be located in a suburban area where people might not want such huge houses and it might not make sense from a financial standpoint to invest in such far off places"
   ]
  },
  {
   "cell_type": "markdown",
   "metadata": {},
   "source": [
    "## --------------------------------- Price vs. Housing Age------------------------------------"
   ]
  },
  {
   "cell_type": "code",
   "execution_count": 152,
   "metadata": {},
   "outputs": [
    {
     "name": "stdout",
     "output_type": "stream",
     "text": [
      "[1] 0.05596746\n"
     ]
    },
    {
     "data": {
      "image/png": "[encoded data removed]",
      "text/plain": [
       "plot without title"
      ]
     },
     "metadata": {},
     "output_type": "display_data"
    }
   ],
   "source": [
    "plot(mydata.train$Age, mydata.train$Price, xlab=\"Housing Age(years)\", ylab=\"House price ($)\", pch = 16)\n",
    "\n",
    "#drawing lowess line\n",
    "lines(lowess(mydata.train$Age, mydata.train$Price), col = \"blue\", lwd = 3)\n",
    "\n",
    "#drawing abline\n",
    "abline(lm(mydata.train$Price ~ mydata.train$Age), col = \"red\", lwd = 3)\n",
    "\n",
    "#correlation, used to find strength \n",
    "print(cor(mydata.train$Age, mydata.train$Price)^2)"
   ]
  },
  {
   "cell_type": "markdown",
   "metadata": {},
   "source": [
    "## Association for Price vs. Housing Age\n",
    "#### Form: there is no obvious linear relationship between housing age and house price.The lowess line decreased until about 60, then increases. \n",
    "#### Direction: there is a slight negative relationship, because abline heads slightly downward.\n",
    "#### Strength: the correlation is relatively weak, because r^2 is only 0.05596746.\n",
    "#### Outliers: There are no visible outliers in this relationship showing that people are either not concerned about the age of the house (as long as it is perhaps visibly beautiful) or the houses listed, irrespective of the age are in good condition. We can say so because we can see that in all the housing age areas, there are houses in a range of prices from low to high."
   ]
  },
  {
   "cell_type": "markdown",
   "metadata": {},
   "source": [
    "## --------------------------------- Price vs. Lot Size------------------------------------"
   ]
  },
  {
   "cell_type": "code",
   "execution_count": 153,
   "metadata": {},
   "outputs": [
    {
     "name": "stdout",
     "output_type": "stream",
     "text": [
      "[1] 0.1633547\n"
     ]
    },
    {
     "data": {
      "image/png": "[encoded data removed]",
      "text/plain": [
       "plot without title"
      ]
     },
     "metadata": {},
     "output_type": "display_data"
    }
   ],
   "source": [
    "plot(mydata.train$Lot.Size, mydata.train$Price, xlab=\"Lot Size (sq. feet)\", ylab=\"House price\", pch = 16)\n",
    "\n",
    "#drawing lowess line\n",
    "lines(lowess(mydata.train$Lot.Size, mydata.train$Price), col = \"blue\", lwd = 3)\n",
    "\n",
    "#drawing abline\n",
    "abline(lm(mydata.train$Price ~ mydata.train$Lot.Size), col = \"red\", lwd = 3)\n",
    "\n",
    "#marking outliers\n",
    "points(x=mydata.train$Lot.Size[mydata.train$Lot.Size>10000],y=mydata.train$Price[mydata.train$Lot.Size>10000],col='red',pch=16)\n",
    "\n",
    "#correlation, used to find strength \n",
    "print(cor(mydata.train$Lot.Size, mydata.train$Price)^2)"
   ]
  },
  {
   "cell_type": "markdown",
   "metadata": {},
   "source": [
    "## Association for Price vs. Lot Size\n",
    "#### Form: the lowess line is almost straight, so there is a linear relationship between lot size and house price.\n",
    "#### Direction: lowess line and abline head up, so there is a positive relationship.\n",
    "#### Strength: the correlation between lot size and house price is relatively weak, because r^2 is only  0.1633547.\n",
    "#### Outliers: The outliers in this relationship are essentially more than 10,000 sq. feet in lot size. We can see that some of the houses have a ton of lot size and the price is also quite high. People might not be interested in such places because the area might not be utilized properly or the house might not be architectured in the right manner leaving the renter feel inconvenient. The ones with medium price but high lot size might not be ideal for people who are working and don't have the time to maintain such a large area."
   ]
  },
  {
   "cell_type": "markdown",
   "metadata": {},
   "source": [
    "---\n",
    "<a id=\"Model_fit\"></a>\n",
    "# Model fit to training data, checking assumptions\n"
   ]
  },
  {
   "cell_type": "code",
   "execution_count": 154,
   "metadata": {},
   "outputs": [],
   "source": [
    "# Add any transformations to the training dataset:"
   ]
  },
  {
   "cell_type": "code",
   "execution_count": 215,
   "metadata": {},
   "outputs": [],
   "source": [
    "\n",
    "#creating log transformed variables\n",
    "mydata.train$days.log <- log(mydata.train$Days +1)\n",
    "mydata.train$floor.area.log <- log(mydata.train$Total.floor.area)\n",
    "mydata.train$age.log <- log(mydata.train$Age + 1)\n",
    "mydata.train$lot.size.log <- log(mydata.train$Lot.Size)\n",
    "\n",
    "#creating sqrt transformed variables\n",
    "mydata.train$days.sqrt <- sqrt(mydata.train$Days)\n",
    "mydata.train$floor.area.sqrt <- sqrt(mydata.train$Total.floor.area)\n",
    "mydata.train$age.sqrt <- sqrt(mydata.train$Age)\n",
    "mydata.train$lot.size.sqrt <- sqrt(mydata.train$Lot.Size)\n",
    "\n",
    "#creating square transformed variables\n",
    "mydata.train$days.sq <- (mydata.train$Days)^2\n",
    "mydata.train$floor.area.sq <- (mydata.train$Total.floor.area)^2\n",
    "mydata.train$age.sq <- (mydata.train$Age)^2\n",
    "mydata.train$lot.size.sq <- (mydata.train$Lot.Size)^2 \n",
    "\n",
    "#creating fraction transformed variables\n",
    "mydata.train$days.fraction <- 1/(mydata.train$Days)\n",
    "mydata.train$floor.area.fraction <- 1/(mydata.train$Total.floor.area)\n",
    "mydata.train$age.fraction <- 1/(mydata.train$Age)\n",
    "mydata.train$lot.size.fraction <- 1/(mydata.train$Lot.Size)\n",
    "\n",
    "mydata.train$Price.log <- log(mydata.train$Price)"
   ]
  },
  {
   "cell_type": "code",
   "execution_count": 156,
   "metadata": {},
   "outputs": [],
   "source": [
    "# If you conducted any transformations of x or y in your final mode"
   ]
  },
  {
   "cell_type": "code",
   "execution_count": 194,
   "metadata": {},
   "outputs": [
    {
     "data": {
      "text/plain": [
       "\n",
       "Call:\n",
       "lm(formula = Price ~ floor.area.sqrt + lot.size.log, data = mydata.train)\n",
       "\n",
       "Residuals:\n",
       "     Min       1Q   Median       3Q      Max \n",
       "-1249279  -323357   -83077   284247  1765443 \n",
       "\n",
       "Coefficients:\n",
       "                Estimate Std. Error t value Pr(>|t|)    \n",
       "(Intercept)     -3432132     431660  -7.951 4.80e-15 ***\n",
       "floor.area.sqrt    37149       2058  18.051  < 2e-16 ***\n",
       "lot.size.log      405287      55542   7.297 5.84e-13 ***\n",
       "---\n",
       "Signif. codes:  0 '***' 0.001 '**' 0.01 '*' 0.05 '.' 0.1 ' ' 1\n",
       "\n",
       "Residual standard error: 430300 on 1039 degrees of freedom\n",
       "Multiple R-squared:  0.3626,\tAdjusted R-squared:  0.3614 \n",
       "F-statistic: 295.6 on 2 and 1039 DF,  p-value: < 2.2e-16\n"
      ]
     },
     "metadata": {},
     "output_type": "display_data"
    }
   ],
   "source": [
    "z1 <- lm(Price ~ floor.area.sqrt + lot.size.log, data = mydata.train)\n",
    "summary(z1)"
   ]
  },
  {
   "cell_type": "code",
   "execution_count": 195,
   "metadata": {},
   "outputs": [
    {
     "data": {
      "text/plain": [
       "\n",
       "Call:\n",
       "lm(formula = Price ~ floor.area.sqrt + lot.size.log + floor.area.sqrt * \n",
       "    lot.size.log, data = mydata.train)\n",
       "\n",
       "Residuals:\n",
       "     Min       1Q   Median       3Q      Max \n",
       "-1248219  -322120   -83387   285607  1778619 \n",
       "\n",
       "Coefficients:\n",
       "                             Estimate Std. Error t value Pr(>|t|)\n",
       "(Intercept)                  -2858775    2483267  -1.151    0.250\n",
       "floor.area.sqrt                 25485      49789   0.512    0.609\n",
       "lot.size.log                   336799     297348   1.133    0.258\n",
       "floor.area.sqrt:lot.size.log     1391       5931   0.234    0.815\n",
       "\n",
       "Residual standard error: 430500 on 1038 degrees of freedom\n",
       "Multiple R-squared:  0.3627,\tAdjusted R-squared:  0.3608 \n",
       "F-statistic: 196.9 on 3 and 1038 DF,  p-value: < 2.2e-16\n"
      ]
     },
     "metadata": {},
     "output_type": "display_data"
    }
   ],
   "source": [
    "z2 <- lm(Price ~ floor.area.sqrt + lot.size.log + floor.area.sqrt*lot.size.log, data = mydata.train)\n",
    "summary(z2)"
   ]
  },
  {
   "cell_type": "code",
   "execution_count": 196,
   "metadata": {},
   "outputs": [
    {
     "data": {
      "text/plain": [
       "\n",
       "Call:\n",
       "lm(formula = Price ~ floor.area.sqrt + lot.size.log + days.sq + \n",
       "    age.sqrt + floor.area.sqrt * lot.size.log + lot.size.log * \n",
       "    days.sq + age.sqrt * floor.area.sqrt + age.sqrt * lot.size.log + \n",
       "    age.sqrt * days.sqrt, data = mydata.train)\n",
       "\n",
       "Residuals:\n",
       "     Min       1Q   Median       3Q      Max \n",
       "-1097891  -319544  -103359   291779  1639082 \n",
       "\n",
       "Coefficients:\n",
       "                               Estimate Std. Error t value Pr(>|t|)    \n",
       "(Intercept)                   4.517e+06  3.002e+06   1.505 0.132674    \n",
       "floor.area.sqrt              -3.729e+03  4.946e+04  -0.075 0.939913    \n",
       "lot.size.log                 -5.976e+05  3.758e+05  -1.590 0.112056    \n",
       "days.sq                       6.486e-01  2.605e+01   0.025 0.980141    \n",
       "age.sqrt                     -7.177e+05  1.885e+05  -3.806 0.000149 ***\n",
       "days.sqrt                     9.146e+03  1.027e+04   0.890 0.373452    \n",
       "floor.area.sqrt:lot.size.log  5.945e+03  5.880e+03   1.011 0.312205    \n",
       "lot.size.log:days.sq         -8.435e-02  3.178e+00  -0.027 0.978829    \n",
       "floor.area.sqrt:age.sqrt     -1.466e+03  8.256e+02  -1.775 0.076122 .  \n",
       "lot.size.log:age.sqrt         9.470e+04  2.554e+04   3.709 0.000219 ***\n",
       "age.sqrt:days.sqrt           -2.116e+03  1.303e+03  -1.624 0.104783    \n",
       "---\n",
       "Signif. codes:  0 '***' 0.001 '**' 0.01 '*' 0.05 '.' 0.1 ' ' 1\n",
       "\n",
       "Residual standard error: 423000 on 1031 degrees of freedom\n",
       "Multiple R-squared:  0.3889,\tAdjusted R-squared:  0.3829 \n",
       "F-statistic:  65.6 on 10 and 1031 DF,  p-value: < 2.2e-16\n"
      ]
     },
     "metadata": {},
     "output_type": "display_data"
    }
   ],
   "source": [
    "z3 <- lm(Price ~ floor.area.sqrt + lot.size.log + days.sq +  age.sqrt \n",
    "         + floor.area.sqrt*lot.size.log\n",
    "         + lot.size.log   *days.sq\n",
    "         + age.sqrt       *floor.area.sqrt\n",
    "         + age.sqrt       *lot.size.log\n",
    "         + age.sqrt       * days.sqrt, \n",
    "         data = mydata.train)\n",
    "summary(z3)\n"
   ]
  },
  {
   "cell_type": "code",
   "execution_count": 208,
   "metadata": {},
   "outputs": [
    {
     "data": {
      "text/plain": [
       "\n",
       "Call:\n",
       "lm(formula = Price ~ Total.floor.area + Lot.Size + Days.on.market + \n",
       "    Age, data = mydata.train)\n",
       "\n",
       "Residuals:\n",
       "     Min       1Q   Median       3Q      Max \n",
       "-1262018  -308671   -93751   271334  1594018 \n",
       "\n",
       "Coefficients:\n",
       "                  Estimate Std. Error t value Pr(>|t|)    \n",
       "(Intercept)      582649.39   66166.22   8.806  < 2e-16 ***\n",
       "Total.floor.area    365.62      21.94  16.663  < 2e-16 ***\n",
       "Lot.Size             88.53      11.29   7.842  1.1e-14 ***\n",
       "Days.on.market     -411.48     215.97  -1.905  0.05702 .  \n",
       "Age               -1333.63     405.78  -3.287  0.00105 ** \n",
       "---\n",
       "Signif. codes:  0 '***' 0.001 '**' 0.01 '*' 0.05 '.' 0.1 ' ' 1\n",
       "\n",
       "Residual standard error: 423700 on 1037 degrees of freedom\n",
       "Multiple R-squared:  0.3831,\tAdjusted R-squared:  0.3807 \n",
       "F-statistic:   161 on 4 and 1037 DF,  p-value: < 2.2e-16\n"
      ]
     },
     "metadata": {},
     "output_type": "display_data"
    }
   ],
   "source": [
    "z4 <- lm(Price ~ Total.floor.area + Lot.Size + Days.on.market +  Age, \n",
    "         data = mydata.train)\n",
    "\n",
    "summary(z4) # most original one"
   ]
  },
  {
   "cell_type": "code",
   "execution_count": 198,
   "metadata": {},
   "outputs": [
    {
     "data": {
      "text/plain": [
       "\n",
       "Call:\n",
       "lm(formula = Price.log ~ floor.area.sqrt + lot.size.log + days.sqrt + \n",
       "    age.sqrt + floor.area.sqrt * lot.size.log + floor.area.sqrt * \n",
       "    days.sqrt + floor.area.sqrt * age.sqrt + lot.size.log * days.sqrt + \n",
       "    lot.size.log * age.sqrt + days.sqrt * age.sqrt, data = mydata.train)\n",
       "\n",
       "Residuals:\n",
       "     Min       1Q   Median       3Q      Max \n",
       "-0.89203 -0.17642 -0.03709  0.17245  0.92106 \n",
       "\n",
       "Coefficients:\n",
       "                               Estimate Std. Error t value Pr(>|t|)    \n",
       "(Intercept)                   1.335e+01  1.671e+00   7.987 3.68e-15 ***\n",
       "floor.area.sqrt               5.541e-02  2.733e-02   2.027 0.042885 *  \n",
       "lot.size.log                 -1.496e-02  2.111e-01  -0.071 0.943529    \n",
       "days.sqrt                    -9.197e-02  6.211e-02  -1.481 0.138998    \n",
       "age.sqrt                     -3.846e-01  1.036e-01  -3.711 0.000218 ***\n",
       "floor.area.sqrt:lot.size.log -3.815e-03  3.252e-03  -1.173 0.240955    \n",
       "floor.area.sqrt:days.sqrt     1.988e-05  3.225e-04   0.062 0.950850    \n",
       "floor.area.sqrt:age.sqrt     -4.373e-04  4.545e-04  -0.962 0.336259    \n",
       "lot.size.log:days.sqrt        1.147e-02  8.069e-03   1.421 0.155536    \n",
       "lot.size.log:age.sqrt         4.844e-02  1.406e-02   3.445 0.000593 ***\n",
       "days.sqrt:age.sqrt           -1.345e-03  7.708e-04  -1.746 0.081169 .  \n",
       "---\n",
       "Signif. codes:  0 '***' 0.001 '**' 0.01 '*' 0.05 '.' 0.1 ' ' 1\n",
       "\n",
       "Residual standard error: 0.2323 on 1031 degrees of freedom\n",
       "Multiple R-squared:  0.4121,\tAdjusted R-squared:  0.4064 \n",
       "F-statistic: 72.27 on 10 and 1031 DF,  p-value: < 2.2e-16\n"
      ]
     },
     "metadata": {},
     "output_type": "display_data"
    }
   ],
   "source": [
    "z5 <- lm(Price.log ~ floor.area.sqrt + lot.size.log + days.sqrt + age.sqrt\n",
    "         +floor.area.sqrt * lot.size.log\n",
    "         +floor.area.sqrt * days.sqrt\n",
    "         +floor.area.sqrt*age.sqrt\n",
    "         +lot.size.log * days.sqrt\n",
    "         +lot.size.log * age.sqrt\n",
    "         +days.sqrt * age.sqrt, \n",
    "         data = mydata.train)\n",
    "summary(z5)"
   ]
  },
  {
   "cell_type": "code",
   "execution_count": 186,
   "metadata": {},
   "outputs": [
    {
     "data": {
      "text/plain": [
       "\n",
       "Call:\n",
       "lm(formula = Price.log ~ floor.area.sqrt + lot.size.log + days.sqrt + \n",
       "    age.sqrt + lot.size.log * days.sqrt + lot.size.log * age.sqrt, \n",
       "    data = mydata.train)\n",
       "\n",
       "Residuals:\n",
       "     Min       1Q   Median       3Q      Max \n",
       "-0.91371 -0.17622 -0.03785  0.16952  0.93706 \n",
       "\n",
       "Coefficients:\n",
       "                        Estimate Std. Error t value Pr(>|t|)    \n",
       "(Intercept)            14.579298   0.841350  17.328  < 2e-16 ***\n",
       "floor.area.sqrt         0.020046   0.001255  15.974  < 2e-16 ***\n",
       "lot.size.log           -0.132740   0.103947  -1.277 0.201892    \n",
       "days.sqrt              -0.101651   0.059474  -1.709 0.087717 .  \n",
       "age.sqrt               -0.345297   0.093250  -3.703 0.000224 ***\n",
       "lot.size.log:days.sqrt  0.011574   0.007109   1.628 0.103807    \n",
       "lot.size.log:age.sqrt   0.039909   0.011289   3.535 0.000426 ***\n",
       "---\n",
       "Signif. codes:  0 '***' 0.001 '**' 0.01 '*' 0.05 '.' 0.1 ' ' 1\n",
       "\n",
       "Residual standard error: 0.2326 on 1035 degrees of freedom\n",
       "Multiple R-squared:  0.4081,\tAdjusted R-squared:  0.4047 \n",
       "F-statistic: 118.9 on 6 and 1035 DF,  p-value: < 2.2e-16\n"
      ]
     },
     "metadata": {},
     "output_type": "display_data"
    }
   ],
   "source": [
    "z6 <- lm(Price.log ~ floor.area.sqrt + lot.size.log + days.sqrt + age.sqrt\n",
    "         +lot.size.log * days.sqrt\n",
    "         +lot.size.log * age.sqrt, \n",
    "         data = mydata.train)\n",
    "summary(z6)"
   ]
  },
  {
   "cell_type": "code",
   "execution_count": 199,
   "metadata": {},
   "outputs": [
    {
     "data": {
      "text/plain": [
       "\n",
       "Call:\n",
       "lm(formula = Price.log ~ floor.area.sqrt + lot.size.log + lot.size.log * \n",
       "    floor.area.log + days.sqrt * age.sqrt, data = mydata.train)\n",
       "\n",
       "Residuals:\n",
       "    Min      1Q  Median      3Q     Max \n",
       "-0.8698 -0.1731 -0.0388  0.1744  0.6229 \n",
       "\n",
       "Coefficients:\n",
       "                              Estimate Std. Error t value Pr(>|t|)    \n",
       "(Intercept)                  1.4793235  5.0345051   0.294  0.76894    \n",
       "floor.area.sqrt              0.0467375  0.0074461   6.277 5.08e-10 ***\n",
       "lot.size.log                 1.8642267  0.6313738   2.953  0.00322 ** \n",
       "floor.area.log               1.1226164  0.6422193   1.748  0.08076 .  \n",
       "days.sqrt                    0.0035256  0.0053906   0.654  0.51324    \n",
       "age.sqrt                    -0.0066835  0.0048742  -1.371  0.17061    \n",
       "lot.size.log:floor.area.log -0.2102405  0.0815120  -2.579  0.01004 *  \n",
       "days.sqrt:age.sqrt          -0.0012560  0.0006931  -1.812  0.07027 .  \n",
       "---\n",
       "Signif. codes:  0 '***' 0.001 '**' 0.01 '*' 0.05 '.' 0.1 ' ' 1\n",
       "\n",
       "Residual standard error: 0.2322 on 1034 degrees of freedom\n",
       "Multiple R-squared:  0.4109,\tAdjusted R-squared:  0.4069 \n",
       "F-statistic:   103 on 7 and 1034 DF,  p-value: < 2.2e-16\n"
      ]
     },
     "metadata": {},
     "output_type": "display_data"
    }
   ],
   "source": [
    "z7 <- lm(Price.log ~ floor.area.sqrt + lot.size.log\n",
    "         +lot.size.log * floor.area.log\n",
    "         +days.sqrt * age.sqrt, \n",
    "         data = mydata.train)\n",
    "summary(z7)"
   ]
  },
  {
   "cell_type": "code",
   "execution_count": 164,
   "metadata": {},
   "outputs": [],
   "source": [
    "predict1= predict(z1, newdata = mydata.train)\n",
    "predict2 = predict(z2, newdata = mydata.train)\n",
    "predict3 = predict(z3, newdata = mydata.train)\n",
    "predict4 = predict(z4, newdata = mydata.train)\n",
    "predict5 = predict(z5, newdata = mydata.train)\n",
    "predict6 = predict(z6, newdata = mydata.train)\n",
    "predict7 = predict(z7, newdata = mydata.train)"
   ]
  },
  {
   "cell_type": "code",
   "execution_count": 165,
   "metadata": {},
   "outputs": [],
   "source": [
    "mydata.train$pred1 = predict1\n",
    "mydata.train$pred2 = predict2\n",
    "mydata.train$pred3 = predict3\n",
    "mydata.train$pred4 = predict4\n",
    "mydata.train$pred5 = exp(predict5)\n",
    "mydata.train$pred6 = exp(predict6)\n",
    "mydata.train$pred7 = exp(predict7)"
   ]
  },
  {
   "cell_type": "code",
   "execution_count": 166,
   "metadata": {},
   "outputs": [],
   "source": [
    "mydata.train$SE1 = abs(mydata.train$pred1 - mydata.train$Price)\n",
    "mydata.train$SE2 = abs(mydata.train$pred2 - mydata.train$Price)\n",
    "mydata.train$SE3 = abs(mydata.train$pred3 - mydata.train$Price)\n",
    "mydata.train$SE4 = abs(mydata.train$pred4 - mydata.train$Price)\n",
    "mydata.train$SE5 = abs(mydata.train$pred5 - mydata.train$Price)\n",
    "mydata.train$SE6 = abs(mydata.train$pred6 - mydata.train$Price)\n",
    "mydata.train$SE7 = abs(mydata.train$pred7 - mydata.train$Price)"
   ]
  },
  {
   "cell_type": "code",
   "execution_count": 216,
   "metadata": {},
   "outputs": [
    {
     "data": {
      "text/html": [
       "346994.552049526"
      ],
      "text/latex": [
       "346994.552049526"
      ],
      "text/markdown": [
       "346994.552049526"
      ],
      "text/plain": [
       "[1] 346994.6"
      ]
     },
     "metadata": {},
     "output_type": "display_data"
    },
    {
     "data": {
      "text/html": [
       "346794.181770804"
      ],
      "text/latex": [
       "346794.181770804"
      ],
      "text/markdown": [
       "346794.181770804"
      ],
      "text/plain": [
       "[1] 346794.2"
      ]
     },
     "metadata": {},
     "output_type": "display_data"
    },
    {
     "data": {
      "text/html": [
       "344511.331612045"
      ],
      "text/latex": [
       "344511.331612045"
      ],
      "text/markdown": [
       "344511.331612045"
      ],
      "text/plain": [
       "[1] 344511.3"
      ]
     },
     "metadata": {},
     "output_type": "display_data"
    },
    {
     "data": {
      "text/html": [
       "340728.617310408"
      ],
      "text/latex": [
       "340728.617310408"
      ],
      "text/markdown": [
       "340728.617310408"
      ],
      "text/plain": [
       "[1] 340728.6"
      ]
     },
     "metadata": {},
     "output_type": "display_data"
    },
    {
     "data": {
      "text/html": [
       "334591.806932773"
      ],
      "text/latex": [
       "334591.806932773"
      ],
      "text/markdown": [
       "334591.806932773"
      ],
      "text/plain": [
       "[1] 334591.8"
      ]
     },
     "metadata": {},
     "output_type": "display_data"
    },
    {
     "data": {
      "text/html": [
       "333400.249584853"
      ],
      "text/latex": [
       "333400.249584853"
      ],
      "text/markdown": [
       "333400.249584853"
      ],
      "text/plain": [
       "[1] 333400.2"
      ]
     },
     "metadata": {},
     "output_type": "display_data"
    },
    {
     "data": {
      "text/html": [
       "338086.290117674"
      ],
      "text/latex": [
       "338086.290117674"
      ],
      "text/markdown": [
       "338086.290117674"
      ],
      "text/plain": [
       "[1] 338086.3"
      ]
     },
     "metadata": {},
     "output_type": "display_data"
    }
   ],
   "source": [
    "#Mean Absolute Error values\n",
    "mae1 = sum(mydata.train$SE1)/nrow(mydata.train)\n",
    "mae1\n",
    "mae2 = sum(mydata.train$SE2)/nrow(mydata.train)\n",
    "mae2\n",
    "mae3 = sum(mydata.train$SE3)/nrow(mydata.train)\n",
    "mae3\n",
    "mae4 = sum(mydata.train$SE4)/nrow(mydata.train)\n",
    "mae4\n",
    "mae5 = sum(mydata.train$SE5)/nrow(mydata.train)\n",
    "mae5\n",
    "mae6 = sum(mydata.train$SE6)/nrow(mydata.train)\n",
    "mae6\n",
    "mae7 = sum(mydata.train$SE7)/nrow(mydata.train)\n",
    "mae7"
   ]
  },
  {
   "cell_type": "code",
   "execution_count": 217,
   "metadata": {},
   "outputs": [
    {
     "data": {
      "text/html": [
       "429652.790009497"
      ],
      "text/latex": [
       "429652.790009497"
      ],
      "text/markdown": [
       "429652.790009497"
      ],
      "text/plain": [
       "[1] 429652.8"
      ]
     },
     "metadata": {},
     "output_type": "display_data"
    },
    {
     "data": {
      "text/html": [
       "429641.413378992"
      ],
      "text/latex": [
       "429641.413378992"
      ],
      "text/markdown": [
       "429641.413378992"
      ],
      "text/plain": [
       "[1] 429641.4"
      ]
     },
     "metadata": {},
     "output_type": "display_data"
    },
    {
     "data": {
      "text/html": [
       "420723.456924024"
      ],
      "text/latex": [
       "420723.456924024"
      ],
      "text/markdown": [
       "420723.456924024"
      ],
      "text/plain": [
       "[1] 420723.5"
      ]
     },
     "metadata": {},
     "output_type": "display_data"
    },
    {
     "data": {
      "text/html": [
       "422694.079720887"
      ],
      "text/latex": [
       "422694.079720887"
      ],
      "text/markdown": [
       "422694.079720887"
      ],
      "text/plain": [
       "[1] 422694.1"
      ]
     },
     "metadata": {},
     "output_type": "display_data"
    },
    {
     "data": {
      "text/html": [
       "421053.149365063"
      ],
      "text/latex": [
       "421053.149365063"
      ],
      "text/markdown": [
       "421053.149365063"
      ],
      "text/plain": [
       "[1] 421053.1"
      ]
     },
     "metadata": {},
     "output_type": "display_data"
    },
    {
     "data": {
      "text/html": [
       "422394.999436249"
      ],
      "text/latex": [
       "422394.999436249"
      ],
      "text/markdown": [
       "422394.999436249"
      ],
      "text/plain": [
       "[1] 422395"
      ]
     },
     "metadata": {},
     "output_type": "display_data"
    },
    {
     "data": {
      "text/html": [
       "425968.580984117"
      ],
      "text/latex": [
       "425968.580984117"
      ],
      "text/markdown": [
       "425968.580984117"
      ],
      "text/plain": [
       "[1] 425968.6"
      ]
     },
     "metadata": {},
     "output_type": "display_data"
    }
   ],
   "source": [
    "#Root mean squared error values\n",
    "rmse1 = sqrt(sum(mydata.train$SE1^2)/nrow(mydata.train))\n",
    "rmse1\n",
    "rmse2 = sqrt(sum(mydata.train$SE2^2)/nrow(mydata.train))\n",
    "rmse2\n",
    "rmse3 = sqrt(sum(mydata.train$SE3^2)/nrow(mydata.train))\n",
    "rmse3\n",
    "rmse4 = sqrt(sum(mydata.train$SE4^2)/nrow(mydata.train))\n",
    "rmse4\n",
    "rmse5 = sqrt(sum(mydata.train$SE5^2)/nrow(mydata.train))\n",
    "rmse5\n",
    "rmse6 = sqrt(sum(mydata.train$SE6^2)/nrow(mydata.train))\n",
    "rmse6\n",
    "rmse7 = sqrt(sum(mydata.train$SE7^2)/nrow(mydata.train))\n",
    "rmse7"
   ]
  },
  {
   "cell_type": "code",
   "execution_count": 169,
   "metadata": {},
   "outputs": [],
   "source": [
    "# If you conducted any transformations of x or y in your final model"
   ]
  },
  {
   "cell_type": "markdown",
   "metadata": {},
   "source": [
    "After comparing MAE and RMSE and the below scatterplots, We choose z6 as our model. For a comprehensive model, we have also created the scatterplots for z7 since the R^2 value was better than z6, but the RMSE and MAE values are better for z6.\n",
    "In this model, we used log transformation on y, the house prices. \n",
    "We also applied log transformation on lot size and square root transformation on days on market, house age, and floor area."
   ]
  },
  {
   "cell_type": "code",
   "execution_count": 170,
   "metadata": {},
   "outputs": [],
   "source": [
    "# Create scatterplots that visualize the association between the variables as they are used in your model:"
   ]
  },
  {
   "cell_type": "code",
   "execution_count": 171,
   "metadata": {},
   "outputs": [
    {
     "data": {
      "image/png": "[encoded data removed]",
      "text/plain": [
       "plot without title"
      ]
     },
     "metadata": {},
     "output_type": "display_data"
    }
   ],
   "source": [
    "par(mfrow=c(4,4))\n",
    "\n",
    "#plotting associations between the variables to select the model\n",
    "plot (mydata.train$Price.log ~ mydata.train$floor.area.sqrt + mydata.train$floor.area.log + mydata.train$floor.area.sq\n",
    "      + mydata.train$floor.area.fraction + mydata.train$lot.size.log + mydata.train$lot.size.sqrt + mydata.train$lot.size.sq\n",
    "      + mydata.train$lot.size.fraction + mydata.train$days.log + mydata.train$days.sqrt + mydata.train$days.sq + mydata.train$days.fraction\n",
    "      + mydata.train$age.log + mydata.train$age.sqrt + mydata.train$age.sq + mydata.train$age.fraction, \n",
    "         data = mydata.train, pch = 16)"
   ]
  },
  {
   "cell_type": "code",
   "execution_count": 172,
   "metadata": {},
   "outputs": [
    {
     "data": {
      "image/png": "[encoded data removed]",
      "text/plain": [
       "plot without title"
      ]
     },
     "metadata": {},
     "output_type": "display_data"
    }
   ],
   "source": [
    "#scatter plot for Z7\n",
    "par(mfrow=c(2,2))\n",
    "interaction_1 = mydata.train$lot.size.log * mydata.train$floor.area.log\n",
    "interaction_2 = mydata.train$days.sqrt * mydata.train$age.sqrt\n",
    "plot(mydata.train$Price.log ~ mydata.train$floor.area.sqrt + mydata.train$lot.size.log+interaction_1 + interaction_2)"
   ]
  },
  {
   "cell_type": "code",
   "execution_count": 173,
   "metadata": {},
   "outputs": [
    {
     "data": {
      "image/png": "[encoded data removed]",
      "text/plain": [
       "plot without title"
      ]
     },
     "metadata": {},
     "output_type": "display_data"
    }
   ],
   "source": [
    "#scatter plot for z6\n",
    "par(mfrow=c(2,3))\n",
    "interaction_1 = mydata.train$lot.size.log * mydata.train$days.sqrt\n",
    "interaction_2 = mydata.train$lot.size.sqrt * mydata.train$age.sqrt\n",
    "plot(mydata.train$Price.log ~ mydata.train$floor.area.sqrt + mydata.train$lot.size.log + mydata.train$days.sqrt + mydata.train$age.sqrt\n",
    "    + interaction_1\n",
    "    + interaction_2)"
   ]
  },
  {
   "cell_type": "code",
   "execution_count": 174,
   "metadata": {},
   "outputs": [],
   "source": [
    "# Is the form linear for each of these associations after the transformations?"
   ]
  },
  {
   "cell_type": "markdown",
   "metadata": {},
   "source": [
    "There is a strong positive association between log of house price and square root of floor area .\n",
    "The association between log of house price and log of lot size is moderate and positive.\n",
    "There is little association between log of house price and square rate of days on market.\n",
    "There is a weak negative association between log of house price and square root of house age."
   ]
  },
  {
   "cell_type": "markdown",
   "metadata": {},
   "source": [
    "### Fit your final model (1 mark for this model being appropriate for the data)"
   ]
  },
  {
   "cell_type": "code",
   "execution_count": 175,
   "metadata": {},
   "outputs": [],
   "source": [
    "# Fit your final model here, use summary to get model co-efficients and other useful output:"
   ]
  },
  {
   "cell_type": "code",
   "execution_count": 176,
   "metadata": {},
   "outputs": [
    {
     "data": {
      "text/plain": [
       "\n",
       "Call:\n",
       "lm(formula = mydata.train$Price.log ~ mydata.train$floor.area.sqrt + \n",
       "    mydata.train$lot.size.log + mydata.train$days.sqrt + mydata.train$age.sqrt + \n",
       "    mydata.train$lot.size.log * mydata.train$days.sqrt + mydata.train$lot.size.log * \n",
       "    mydata.train$age.sqrt, data = mydata.train)\n",
       "\n",
       "Residuals:\n",
       "     Min       1Q   Median       3Q      Max \n",
       "-0.91371 -0.17622 -0.03785  0.16952  0.93706 \n",
       "\n",
       "Coefficients:\n",
       "                                                  Estimate Std. Error t value\n",
       "(Intercept)                                      14.579298   0.841350  17.328\n",
       "mydata.train$floor.area.sqrt                      0.020046   0.001255  15.974\n",
       "mydata.train$lot.size.log                        -0.132740   0.103947  -1.277\n",
       "mydata.train$days.sqrt                           -0.101651   0.059474  -1.709\n",
       "mydata.train$age.sqrt                            -0.345297   0.093250  -3.703\n",
       "mydata.train$lot.size.log:mydata.train$days.sqrt  0.011574   0.007109   1.628\n",
       "mydata.train$lot.size.log:mydata.train$age.sqrt   0.039909   0.011289   3.535\n",
       "                                                 Pr(>|t|)    \n",
       "(Intercept)                                       < 2e-16 ***\n",
       "mydata.train$floor.area.sqrt                      < 2e-16 ***\n",
       "mydata.train$lot.size.log                        0.201892    \n",
       "mydata.train$days.sqrt                           0.087717 .  \n",
       "mydata.train$age.sqrt                            0.000224 ***\n",
       "mydata.train$lot.size.log:mydata.train$days.sqrt 0.103807    \n",
       "mydata.train$lot.size.log:mydata.train$age.sqrt  0.000426 ***\n",
       "---\n",
       "Signif. codes:  0 '***' 0.001 '**' 0.01 '*' 0.05 '.' 0.1 ' ' 1\n",
       "\n",
       "Residual standard error: 0.2326 on 1035 degrees of freedom\n",
       "Multiple R-squared:  0.4081,\tAdjusted R-squared:  0.4047 \n",
       "F-statistic: 118.9 on 6 and 1035 DF,  p-value: < 2.2e-16\n"
      ]
     },
     "metadata": {},
     "output_type": "display_data"
    },
    {
     "data": {
      "text/html": [
       "<table>\n",
       "<thead><tr><th></th><th scope=col>Df</th><th scope=col>Sum Sq</th><th scope=col>Mean Sq</th><th scope=col>F value</th><th scope=col>Pr(&gt;F)</th></tr></thead>\n",
       "<tbody>\n",
       "\t<tr><th scope=row>mydata.train$floor.area.sqrt</th><td>   1         </td><td>32.9943446   </td><td>32.99434464  </td><td>609.826628   </td><td>3.151945e-106</td></tr>\n",
       "\t<tr><th scope=row>mydata.train$lot.size.log</th><td>   1         </td><td> 2.7880595   </td><td> 2.78805949  </td><td> 51.531041   </td><td> 1.343188e-12</td></tr>\n",
       "\t<tr><th scope=row>mydata.train$days.sqrt</th><td>   1         </td><td> 0.2756225   </td><td> 0.27562254  </td><td>  5.094266   </td><td> 2.421291e-02</td></tr>\n",
       "\t<tr><th scope=row>mydata.train$age.sqrt</th><td>   1         </td><td> 1.7334023   </td><td> 1.73340230  </td><td> 32.038063   </td><td> 1.956760e-08</td></tr>\n",
       "\t<tr><th scope=row>mydata.train$lot.size.log:mydata.train$days.sqrt</th><td>   1         </td><td> 0.1436227   </td><td> 0.14362269  </td><td>  2.654544   </td><td> 1.035587e-01</td></tr>\n",
       "\t<tr><th scope=row>mydata.train$lot.size.log:mydata.train$age.sqrt</th><td>   1         </td><td> 0.6761575   </td><td> 0.67615746  </td><td> 12.497258   </td><td> 4.255763e-04</td></tr>\n",
       "\t<tr><th scope=row>Residuals</th><td>1035         </td><td>55.9981233   </td><td> 0.05410447  </td><td>        NA   </td><td>           NA</td></tr>\n",
       "</tbody>\n",
       "</table>\n"
      ],
      "text/latex": [
       "\\begin{tabular}{r|lllll}\n",
       "  & Df & Sum Sq & Mean Sq & F value & Pr(>F)\\\\\n",
       "\\hline\n",
       "\tmydata.train\\$floor.area.sqrt &    1          & 32.9943446    & 32.99434464   & 609.826628    & 3.151945e-106\\\\\n",
       "\tmydata.train\\$lot.size.log &    1          &  2.7880595    &  2.78805949   &  51.531041    &  1.343188e-12\\\\\n",
       "\tmydata.train\\$days.sqrt &    1          &  0.2756225    &  0.27562254   &   5.094266    &  2.421291e-02\\\\\n",
       "\tmydata.train\\$age.sqrt &    1          &  1.7334023    &  1.73340230   &  32.038063    &  1.956760e-08\\\\\n",
       "\tmydata.train\\$lot.size.log:mydata.train\\$days.sqrt &    1          &  0.1436227    &  0.14362269   &   2.654544    &  1.035587e-01\\\\\n",
       "\tmydata.train\\$lot.size.log:mydata.train\\$age.sqrt &    1          &  0.6761575    &  0.67615746   &  12.497258    &  4.255763e-04\\\\\n",
       "\tResiduals & 1035          & 55.9981233    &  0.05410447   &         NA    &            NA\\\\\n",
       "\\end{tabular}\n"
      ],
      "text/markdown": [
       "\n",
       "| <!--/--> | Df | Sum Sq | Mean Sq | F value | Pr(>F) |\n",
       "|---|---|---|---|---|---|\n",
       "| mydata.train$floor.area.sqrt |    1          | 32.9943446    | 32.99434464   | 609.826628    | 3.151945e-106 |\n",
       "| mydata.train$lot.size.log |    1          |  2.7880595    |  2.78805949   |  51.531041    |  1.343188e-12 |\n",
       "| mydata.train$days.sqrt |    1          |  0.2756225    |  0.27562254   |   5.094266    |  2.421291e-02 |\n",
       "| mydata.train$age.sqrt |    1          |  1.7334023    |  1.73340230   |  32.038063    |  1.956760e-08 |\n",
       "| mydata.train$lot.size.log:mydata.train$days.sqrt |    1          |  0.1436227    |  0.14362269   |   2.654544    |  1.035587e-01 |\n",
       "| mydata.train$lot.size.log:mydata.train$age.sqrt |    1          |  0.6761575    |  0.67615746   |  12.497258    |  4.255763e-04 |\n",
       "| Residuals | 1035          | 55.9981233    |  0.05410447   |         NA    |            NA |\n",
       "\n"
      ],
      "text/plain": [
       "                                                 Df   Sum Sq     Mean Sq    \n",
       "mydata.train$floor.area.sqrt                        1 32.9943446 32.99434464\n",
       "mydata.train$lot.size.log                           1  2.7880595  2.78805949\n",
       "mydata.train$days.sqrt                              1  0.2756225  0.27562254\n",
       "mydata.train$age.sqrt                               1  1.7334023  1.73340230\n",
       "mydata.train$lot.size.log:mydata.train$days.sqrt    1  0.1436227  0.14362269\n",
       "mydata.train$lot.size.log:mydata.train$age.sqrt     1  0.6761575  0.67615746\n",
       "Residuals                                        1035 55.9981233  0.05410447\n",
       "                                                 F value    Pr(>F)       \n",
       "mydata.train$floor.area.sqrt                     609.826628 3.151945e-106\n",
       "mydata.train$lot.size.log                         51.531041  1.343188e-12\n",
       "mydata.train$days.sqrt                             5.094266  2.421291e-02\n",
       "mydata.train$age.sqrt                             32.038063  1.956760e-08\n",
       "mydata.train$lot.size.log:mydata.train$days.sqrt   2.654544  1.035587e-01\n",
       "mydata.train$lot.size.log:mydata.train$age.sqrt   12.497258  4.255763e-04\n",
       "Residuals                                                NA            NA"
      ]
     },
     "metadata": {},
     "output_type": "display_data"
    }
   ],
   "source": [
    "summary(z6)\n",
    "anova(z6)"
   ]
  },
  {
   "cell_type": "markdown",
   "metadata": {},
   "source": [
    "**Write the equation of your model, replacing the co-efficients with the numbers from the output of the summary command: (0.5 marks)**  "
   ]
  },
  {
   "cell_type": "code",
   "execution_count": 177,
   "metadata": {},
   "outputs": [
    {
     "data": {
      "text/html": [
       "<dl class=dl-horizontal>\n",
       "\t<dt>(Intercept)</dt>\n",
       "\t\t<dd>14.5792975671609</dd>\n",
       "\t<dt>mydata.train$floor.area.sqrt</dt>\n",
       "\t\t<dd>0.0200462230032448</dd>\n",
       "\t<dt>mydata.train$lot.size.log</dt>\n",
       "\t\t<dd>-0.132739692063389</dd>\n",
       "\t<dt>mydata.train$days.sqrt</dt>\n",
       "\t\t<dd>-0.101651157791523</dd>\n",
       "\t<dt>mydata.train$age.sqrt</dt>\n",
       "\t\t<dd>-0.345296811747191</dd>\n",
       "\t<dt>mydata.train$lot.size.log:mydata.train$days.sqrt</dt>\n",
       "\t\t<dd>0.0115740655715393</dd>\n",
       "\t<dt>mydata.train$lot.size.log:mydata.train$age.sqrt</dt>\n",
       "\t\t<dd>0.0399089062123785</dd>\n",
       "</dl>\n"
      ],
      "text/latex": [
       "\\begin{description*}\n",
       "\\item[(Intercept)] 14.5792975671609\n",
       "\\item[mydata.train\\textbackslash{}\\$floor.area.sqrt] 0.0200462230032448\n",
       "\\item[mydata.train\\textbackslash{}\\$lot.size.log] -0.132739692063389\n",
       "\\item[mydata.train\\textbackslash{}\\$days.sqrt] -0.101651157791523\n",
       "\\item[mydata.train\\textbackslash{}\\$age.sqrt] -0.345296811747191\n",
       "\\item[mydata.train\\textbackslash{}\\$lot.size.log:mydata.train\\textbackslash{}\\$days.sqrt] 0.0115740655715393\n",
       "\\item[mydata.train\\textbackslash{}\\$lot.size.log:mydata.train\\textbackslash{}\\$age.sqrt] 0.0399089062123785\n",
       "\\end{description*}\n"
      ],
      "text/markdown": [
       "(Intercept)\n",
       ":   14.5792975671609mydata.train$floor.area.sqrt\n",
       ":   0.0200462230032448mydata.train$lot.size.log\n",
       ":   -0.132739692063389mydata.train$days.sqrt\n",
       ":   -0.101651157791523mydata.train$age.sqrt\n",
       ":   -0.345296811747191mydata.train$lot.size.log:mydata.train$days.sqrt\n",
       ":   0.0115740655715393mydata.train$lot.size.log:mydata.train$age.sqrt\n",
       ":   0.0399089062123785\n",
       "\n"
      ],
      "text/plain": [
       "                                     (Intercept) \n",
       "                                     14.57929757 \n",
       "                    mydata.train$floor.area.sqrt \n",
       "                                      0.02004622 \n",
       "                       mydata.train$lot.size.log \n",
       "                                     -0.13273969 \n",
       "                          mydata.train$days.sqrt \n",
       "                                     -0.10165116 \n",
       "                           mydata.train$age.sqrt \n",
       "                                     -0.34529681 \n",
       "mydata.train$lot.size.log:mydata.train$days.sqrt \n",
       "                                      0.01157407 \n",
       " mydata.train$lot.size.log:mydata.train$age.sqrt \n",
       "                                      0.03990891 "
      ]
     },
     "metadata": {},
     "output_type": "display_data"
    }
   ],
   "source": [
    "coef(z6)"
   ]
  },
  {
   "cell_type": "markdown",
   "metadata": {},
   "source": [
    "predicted log value for house price = \n",
    "     0.0200462230032449*(sqrt of floor area)\n",
    "    -0.132739692063391*(log of lot size)\n",
    "    -0.101651157791524*(sqrt of days on market)\n",
    "    -0.345296811747193*(sqrt of house age)\n",
    "    +0.01157406557153946*(log of lot size * sqrt of days on market)\n",
    "    +0.0399089062123787*(log of lot size * sqrt of house age)\n",
    "\n",
    "    \n",
    "    \n",
    "    \n",
    "    "
   ]
  },
  {
   "cell_type": "markdown",
   "metadata": {},
   "source": [
    "**Interpret the value of each co-efficient assuming that the x-variables are independent of each other (you do not need to interpret the intercept) If you have an interaction, describe the type of interaction (reinforcement, interference): (1 mark)**    "
   ]
  },
  {
   "cell_type": "markdown",
   "metadata": {},
   "source": [
    "When the square root value of floor area increases by 1, the predicted log value of house price will increase by 0.0554127116968336.\n",
    "When the log value of lot size increases by 1, the predicted log value of house sale price will decrease by 0.0149593129516344.\n",
    "When the square root value of days on market increases by 1, the predicted log value of house sale price will decrease by 0.0919666743081911.\n",
    "When the square root value of house age increases by 1, the predicted log value of house sale price will decrease by 0.384580813772827.\n",
    "The effectiveness of log of lot size increased by 0.01157406557153946 when used with sqrt of days on market compared to its use without sqrt of days on market.\n",
    "The effectiveness of log of lot size increased by 0.0399089062123787 when used with sqrt of house age compared to its use without sqrt of house age."
   ]
  },
  {
   "cell_type": "markdown",
   "metadata": {},
   "source": [
    "---\n",
    "## Check the assumptions (3 marks)\n",
    "Create plots / conduct tests and write a sentence to interpret each result."
   ]
  },
  {
   "cell_type": "code",
   "execution_count": 178,
   "metadata": {},
   "outputs": [
    {
     "data": {
      "text/plain": [
       "\n",
       "\tShapiro-Wilk normality test\n",
       "\n",
       "data:  resid.values\n",
       "W = 0.9791, p-value = 4.3e-11\n"
      ]
     },
     "metadata": {},
     "output_type": "display_data"
    },
    {
     "data": {
      "image/png": "[encoded data removed]",
      "text/plain": [
       "Plot with title \"Normal Q-Q Plot\""
      ]
     },
     "metadata": {},
     "output_type": "display_data"
    }
   ],
   "source": [
    "# Check assumptions of linearity, equal variance, normality here.\n",
    "# Comment on any unusual observations (outliers) that are observed.\n",
    "\n",
    "checkresiduals <- function(z.linear) {\n",
    "  predict.values <- predict(z.linear)\n",
    "  resid.values <- resid(z.linear)\n",
    "  \n",
    "  \n",
    "  if (max(resid.values) > 3*summary(z.linear)$sigma) {\n",
    "    ymax <-  max(resid.values)\n",
    "  } else {\n",
    "    ymax <-  3*summary(z.linear)$sigma \n",
    "  }\n",
    "  \n",
    "  if (min(resid.values) < -3*summary(z.linear)$sigma) {\n",
    "    ymin <-  min(resid.values)\n",
    "  } else {\n",
    "    ymin <-  -3*summary(z.linear)$sigma \n",
    "  }\n",
    "  \n",
    "  \n",
    "  par(mfrow=c(2,2))\n",
    "  plot(resid.values ~ predict.values, ylim=c(ymin, ymax), main = \"Residual plot\")\n",
    "  abline(0,0, lty=2)\n",
    "  se <- summary(z.linear)$sigma\n",
    "  abline(2*se, 0, col=\"red\", lty=2)\n",
    "  abline(-2*se, 0, col=\"red\", lty=2)\n",
    "  \n",
    "  \n",
    "  plot(resid.values, main = \"Resid vs. obs #\")\n",
    "  abline(0,0, lty=2)\n",
    "  lines(resid.values)\n",
    "  \n",
    "    \n",
    "  hist(resid.values, prob = TRUE)\n",
    "  curve(dnorm(x, mean = mean(resid.values), sd = sd(resid.values)), col = 'red', add = TRUE)\n",
    "  \n",
    "    \n",
    "  qqnorm(resid.values, ylab= \"standardized residuals\", xlab = \"Normal scores\")\n",
    "  qqline(resid.values, col= \"red\")\n",
    "  \n",
    "  shapiro.test(resid.values)\n",
    "}\n",
    "checkresiduals(z6)\n"
   ]
  },
  {
   "cell_type": "markdown",
   "metadata": {},
   "source": [
    "The assumption of linearity is met becasue the points are evenly distributed around y = 0 on the residual plot.\n",
    "Since residuals do not fan out in a triangular fashion in residual plot, the equal variance assumption is met.\n",
    "According to the histogram of the distribution of residual, the assumption of normality is generally met, since the distribution of residual is relatively normal. "
   ]
  },
  {
   "cell_type": "markdown",
   "metadata": {},
   "source": [
    "*You do not need to consider how the assumption of independence could be violated due to time.*\n",
    "  \n",
    "  \n",
    "**Describe how the assumption of independence could be violated for this dataset in relation to space. (200 words max.) (2 marks)**  \n",
    "\n"
   ]
  },
  {
   "cell_type": "markdown",
   "metadata": {},
   "source": [
    "If there are any other factors that are not described by the model but do affect house prices the assumption of independence would be violated. \n",
    "For example, some neighborhoods(such as Hastings Sunrise, South Vancouver, and Killarney)  might have a better community environment, therefore, have higher house prices than the houses in other neighborhoods. \n",
    "Generally speaking, the house price at west Vancouver is higher than that of other areas. In this case, two houses with exactly the same lot size, floor area, age, and days on market are likely to have different prices.\n",
    "In addition, many buyers and sellers often use the price of a house as a reference for the other house nearby. Therefore, the selling price of a house might affect people’s expectations of the other houses nearby. In this case, the observations would be dependent. \n"
   ]
  },
  {
   "cell_type": "markdown",
   "metadata": {},
   "source": [
    "---\n",
    "## Goodness of fit to the training set. (0.5 marks)\n",
    "Find the R2 value and the residual standard error. If you transformed the y-variable, get predicted values back in the original units, then calculate these yourself."
   ]
  },
  {
   "cell_type": "code",
   "execution_count": 179,
   "metadata": {},
   "outputs": [
    {
     "data": {
      "text/plain": [
       "\n",
       "Call:\n",
       "lm(formula = mydata.train$Price.log ~ mydata.train$floor.area.sqrt + \n",
       "    mydata.train$lot.size.log + mydata.train$days.sqrt + mydata.train$age.sqrt + \n",
       "    mydata.train$lot.size.log * mydata.train$days.sqrt + mydata.train$lot.size.log * \n",
       "    mydata.train$age.sqrt, data = mydata.train)\n",
       "\n",
       "Residuals:\n",
       "     Min       1Q   Median       3Q      Max \n",
       "-0.91371 -0.17622 -0.03785  0.16952  0.93706 \n",
       "\n",
       "Coefficients:\n",
       "                                                  Estimate Std. Error t value\n",
       "(Intercept)                                      14.579298   0.841350  17.328\n",
       "mydata.train$floor.area.sqrt                      0.020046   0.001255  15.974\n",
       "mydata.train$lot.size.log                        -0.132740   0.103947  -1.277\n",
       "mydata.train$days.sqrt                           -0.101651   0.059474  -1.709\n",
       "mydata.train$age.sqrt                            -0.345297   0.093250  -3.703\n",
       "mydata.train$lot.size.log:mydata.train$days.sqrt  0.011574   0.007109   1.628\n",
       "mydata.train$lot.size.log:mydata.train$age.sqrt   0.039909   0.011289   3.535\n",
       "                                                 Pr(>|t|)    \n",
       "(Intercept)                                       < 2e-16 ***\n",
       "mydata.train$floor.area.sqrt                      < 2e-16 ***\n",
       "mydata.train$lot.size.log                        0.201892    \n",
       "mydata.train$days.sqrt                           0.087717 .  \n",
       "mydata.train$age.sqrt                            0.000224 ***\n",
       "mydata.train$lot.size.log:mydata.train$days.sqrt 0.103807    \n",
       "mydata.train$lot.size.log:mydata.train$age.sqrt  0.000426 ***\n",
       "---\n",
       "Signif. codes:  0 '***' 0.001 '**' 0.01 '*' 0.05 '.' 0.1 ' ' 1\n",
       "\n",
       "Residual standard error: 0.2326 on 1035 degrees of freedom\n",
       "Multiple R-squared:  0.4081,\tAdjusted R-squared:  0.4047 \n",
       "F-statistic: 118.9 on 6 and 1035 DF,  p-value: < 2.2e-16\n"
      ]
     },
     "metadata": {},
     "output_type": "display_data"
    },
    {
     "data": {
      "text/html": [
       "266"
      ],
      "text/latex": [
       "266"
      ],
      "text/markdown": [
       "266"
      ],
      "text/plain": [
       "[1] 266"
      ]
     },
     "metadata": {},
     "output_type": "display_data"
    },
    {
     "data": {
      "text/html": [
       "836010.649"
      ],
      "text/latex": [
       "836010.649"
      ],
      "text/markdown": [
       "836010.649"
      ],
      "text/plain": [
       "[1] 836010.6"
      ]
     },
     "metadata": {},
     "output_type": "display_data"
    },
    {
     "data": {
      "text/html": [
       "0.384"
      ],
      "text/latex": [
       "0.384"
      ],
      "text/markdown": [
       "0.384"
      ],
      "text/plain": [
       "[1] 0.384"
      ]
     },
     "metadata": {},
     "output_type": "display_data"
    }
   ],
   "source": [
    "summary(z6)\n",
    "predicting6 <- predict(z6)\n",
    "mydata.train <- cbind(mydata.train, predicting6)\n",
    "mydata.train$predictorg <- exp(mydata.train$predicting6)\n",
    "\n",
    "SSE6 <- sum((mydata.train$Price - mydata.train$predictorg)^2)\n",
    "SSY6 <- sum((mydata.train$Price - mean(mydata.train$Price))^2)\n",
    "\n",
    "n = nrow(mydata)\n",
    "m = summary(z6)$df[2]\n",
    "denom = n - m - 1\n",
    "denom\n",
    "\n",
    "Residual.SE6 = sqrt(SSE6/denom)\n",
    "round(Residual.SE6,3)\n",
    "\n",
    "pseudo.R2 = 1- SSE6/SSY6\n",
    "round(pseudo.R2,3)"
   ]
  },
  {
   "cell_type": "markdown",
   "metadata": {},
   "source": [
    "R^2 for the model we choose is 0.4081.\n",
    "The residual standard error for this model is 836010.649 and the Pseudo R-squared value is 0.384"
   ]
  },
  {
   "cell_type": "markdown",
   "metadata": {},
   "source": [
    "---\n",
    "## Do you have any concerns about the explanatory variables being related to each other? (1 mark)\n",
    "\n",
    "Show plots and/or do analyses to support your conclusions. If there are associations between explanatory variables, what effect could this have on your model? How would this affect your predictions?  "
   ]
  },
  {
   "cell_type": "code",
   "execution_count": 200,
   "metadata": {},
   "outputs": [],
   "source": [
    "library(car)"
   ]
  },
  {
   "cell_type": "code",
   "execution_count": 201,
   "metadata": {},
   "outputs": [
    {
     "name": "stderr",
     "output_type": "stream",
     "text": [
      "there are higher-order terms (interactions) in this model\n",
      "consider setting type = 'predictor'; see ?vif\n"
     ]
    },
    {
     "data": {
      "text/html": [
       "<dl class=dl-horizontal>\n",
       "\t<dt>floor.area.sqrt</dt>\n",
       "\t\t<dd>1.53901307448055</dd>\n",
       "\t<dt>lot.size.log</dt>\n",
       "\t\t<dd>14.4961201142289</dd>\n",
       "\t<dt>days.sqrt</dt>\n",
       "\t\t<dd>945.767216966714</dd>\n",
       "\t<dt>age.sqrt</dt>\n",
       "\t\t<dd>1348.78457845045</dd>\n",
       "\t<dt>lot.size.log:days.sqrt</dt>\n",
       "\t\t<dd>956.065042014572</dd>\n",
       "\t<dt>lot.size.log:age.sqrt</dt>\n",
       "\t\t<dd>1368.98391113464</dd>\n",
       "</dl>\n"
      ],
      "text/latex": [
       "\\begin{description*}\n",
       "\\item[floor.area.sqrt] 1.53901307448055\n",
       "\\item[lot.size.log] 14.4961201142289\n",
       "\\item[days.sqrt] 945.767216966714\n",
       "\\item[age.sqrt] 1348.78457845045\n",
       "\\item[lot.size.log:days.sqrt] 956.065042014572\n",
       "\\item[lot.size.log:age.sqrt] 1368.98391113464\n",
       "\\end{description*}\n"
      ],
      "text/markdown": [
       "floor.area.sqrt\n",
       ":   1.53901307448055lot.size.log\n",
       ":   14.4961201142289days.sqrt\n",
       ":   945.767216966714age.sqrt\n",
       ":   1348.78457845045lot.size.log:days.sqrt\n",
       ":   956.065042014572lot.size.log:age.sqrt\n",
       ":   1368.98391113464\n",
       "\n"
      ],
      "text/plain": [
       "       floor.area.sqrt           lot.size.log              days.sqrt \n",
       "              1.539013              14.496120             945.767217 \n",
       "              age.sqrt lot.size.log:days.sqrt  lot.size.log:age.sqrt \n",
       "           1348.784578             956.065042            1368.983911 "
      ]
     },
     "metadata": {},
     "output_type": "display_data"
    }
   ],
   "source": [
    "VIF <- vif(z6)\n",
    "VIF"
   ]
  },
  {
   "cell_type": "markdown",
   "metadata": {},
   "source": [
    "VIF values or Variation Inflation Factors show us the extent of multi-collinearity, in a multiple linear regression model. Multicollinearity indicates the influence of one explanatory variable on the other. Having high VIF values could indicate that some of the variables are influencing other variables. This can affect the predictions in the sense that, the model could end up double-counting the effect of a few variables, hence, creating an illusion of good fit."
   ]
  },
  {
   "cell_type": "markdown",
   "metadata": {},
   "source": [
    "---\n",
    "<a id=\"Hyp_tests\"></a>\n",
    "## Hypothesis tests (1.5 marks)\n",
    "\n",
    "Conduct an F-test for the significance of the regression and t-tests for the significance of each variable. If you have an interaction in your model, show only the test for the interaction (do not test the main effects).  \n",
    "Write the concluding sentence for each hypothesis test, then in brackets include the test statistic and a p-value). Use alpha = 0.05 to make all decisions for this project.  \n",
    "E.g.: The variable log baha is significant in the final model (t statistic = 15.32, df error = 38, p-value < 0.0001).\n",
    "\n",
    "What do these results tell you about the contribution of each variable to your final model?"
   ]
  },
  {
   "cell_type": "code",
   "execution_count": 182,
   "metadata": {},
   "outputs": [
    {
     "data": {
      "text/html": [
       "<table>\n",
       "<thead><tr><th></th><th scope=col>Df</th><th scope=col>Sum Sq</th><th scope=col>Mean Sq</th><th scope=col>F value</th><th scope=col>Pr(&gt;F)</th></tr></thead>\n",
       "<tbody>\n",
       "\t<tr><th scope=row>mydata.train$floor.area.sqrt</th><td>   1         </td><td>32.9943446   </td><td>32.99434464  </td><td>609.826628   </td><td>3.151945e-106</td></tr>\n",
       "\t<tr><th scope=row>mydata.train$lot.size.log</th><td>   1         </td><td> 2.7880595   </td><td> 2.78805949  </td><td> 51.531041   </td><td> 1.343188e-12</td></tr>\n",
       "\t<tr><th scope=row>mydata.train$days.sqrt</th><td>   1         </td><td> 0.2756225   </td><td> 0.27562254  </td><td>  5.094266   </td><td> 2.421291e-02</td></tr>\n",
       "\t<tr><th scope=row>mydata.train$age.sqrt</th><td>   1         </td><td> 1.7334023   </td><td> 1.73340230  </td><td> 32.038063   </td><td> 1.956760e-08</td></tr>\n",
       "\t<tr><th scope=row>mydata.train$lot.size.log:mydata.train$days.sqrt</th><td>   1         </td><td> 0.1436227   </td><td> 0.14362269  </td><td>  2.654544   </td><td> 1.035587e-01</td></tr>\n",
       "\t<tr><th scope=row>mydata.train$lot.size.log:mydata.train$age.sqrt</th><td>   1         </td><td> 0.6761575   </td><td> 0.67615746  </td><td> 12.497258   </td><td> 4.255763e-04</td></tr>\n",
       "\t<tr><th scope=row>Residuals</th><td>1035         </td><td>55.9981233   </td><td> 0.05410447  </td><td>        NA   </td><td>           NA</td></tr>\n",
       "</tbody>\n",
       "</table>\n"
      ],
      "text/latex": [
       "\\begin{tabular}{r|lllll}\n",
       "  & Df & Sum Sq & Mean Sq & F value & Pr(>F)\\\\\n",
       "\\hline\n",
       "\tmydata.train\\$floor.area.sqrt &    1          & 32.9943446    & 32.99434464   & 609.826628    & 3.151945e-106\\\\\n",
       "\tmydata.train\\$lot.size.log &    1          &  2.7880595    &  2.78805949   &  51.531041    &  1.343188e-12\\\\\n",
       "\tmydata.train\\$days.sqrt &    1          &  0.2756225    &  0.27562254   &   5.094266    &  2.421291e-02\\\\\n",
       "\tmydata.train\\$age.sqrt &    1          &  1.7334023    &  1.73340230   &  32.038063    &  1.956760e-08\\\\\n",
       "\tmydata.train\\$lot.size.log:mydata.train\\$days.sqrt &    1          &  0.1436227    &  0.14362269   &   2.654544    &  1.035587e-01\\\\\n",
       "\tmydata.train\\$lot.size.log:mydata.train\\$age.sqrt &    1          &  0.6761575    &  0.67615746   &  12.497258    &  4.255763e-04\\\\\n",
       "\tResiduals & 1035          & 55.9981233    &  0.05410447   &         NA    &            NA\\\\\n",
       "\\end{tabular}\n"
      ],
      "text/markdown": [
       "\n",
       "| <!--/--> | Df | Sum Sq | Mean Sq | F value | Pr(>F) |\n",
       "|---|---|---|---|---|---|\n",
       "| mydata.train$floor.area.sqrt |    1          | 32.9943446    | 32.99434464   | 609.826628    | 3.151945e-106 |\n",
       "| mydata.train$lot.size.log |    1          |  2.7880595    |  2.78805949   |  51.531041    |  1.343188e-12 |\n",
       "| mydata.train$days.sqrt |    1          |  0.2756225    |  0.27562254   |   5.094266    |  2.421291e-02 |\n",
       "| mydata.train$age.sqrt |    1          |  1.7334023    |  1.73340230   |  32.038063    |  1.956760e-08 |\n",
       "| mydata.train$lot.size.log:mydata.train$days.sqrt |    1          |  0.1436227    |  0.14362269   |   2.654544    |  1.035587e-01 |\n",
       "| mydata.train$lot.size.log:mydata.train$age.sqrt |    1          |  0.6761575    |  0.67615746   |  12.497258    |  4.255763e-04 |\n",
       "| Residuals | 1035          | 55.9981233    |  0.05410447   |         NA    |            NA |\n",
       "\n"
      ],
      "text/plain": [
       "                                                 Df   Sum Sq     Mean Sq    \n",
       "mydata.train$floor.area.sqrt                        1 32.9943446 32.99434464\n",
       "mydata.train$lot.size.log                           1  2.7880595  2.78805949\n",
       "mydata.train$days.sqrt                              1  0.2756225  0.27562254\n",
       "mydata.train$age.sqrt                               1  1.7334023  1.73340230\n",
       "mydata.train$lot.size.log:mydata.train$days.sqrt    1  0.1436227  0.14362269\n",
       "mydata.train$lot.size.log:mydata.train$age.sqrt     1  0.6761575  0.67615746\n",
       "Residuals                                        1035 55.9981233  0.05410447\n",
       "                                                 F value    Pr(>F)       \n",
       "mydata.train$floor.area.sqrt                     609.826628 3.151945e-106\n",
       "mydata.train$lot.size.log                         51.531041  1.343188e-12\n",
       "mydata.train$days.sqrt                             5.094266  2.421291e-02\n",
       "mydata.train$age.sqrt                             32.038063  1.956760e-08\n",
       "mydata.train$lot.size.log:mydata.train$days.sqrt   2.654544  1.035587e-01\n",
       "mydata.train$lot.size.log:mydata.train$age.sqrt   12.497258  4.255763e-04\n",
       "Residuals                                                NA            NA"
      ]
     },
     "metadata": {},
     "output_type": "display_data"
    },
    {
     "data": {
      "text/plain": [
       "\n",
       "Call:\n",
       "lm(formula = mydata.train$Price.log ~ mydata.train$floor.area.sqrt + \n",
       "    mydata.train$lot.size.log + mydata.train$days.sqrt + mydata.train$age.sqrt + \n",
       "    mydata.train$lot.size.log * mydata.train$days.sqrt + mydata.train$lot.size.log * \n",
       "    mydata.train$age.sqrt, data = mydata.train)\n",
       "\n",
       "Residuals:\n",
       "     Min       1Q   Median       3Q      Max \n",
       "-0.91371 -0.17622 -0.03785  0.16952  0.93706 \n",
       "\n",
       "Coefficients:\n",
       "                                                  Estimate Std. Error t value\n",
       "(Intercept)                                      14.579298   0.841350  17.328\n",
       "mydata.train$floor.area.sqrt                      0.020046   0.001255  15.974\n",
       "mydata.train$lot.size.log                        -0.132740   0.103947  -1.277\n",
       "mydata.train$days.sqrt                           -0.101651   0.059474  -1.709\n",
       "mydata.train$age.sqrt                            -0.345297   0.093250  -3.703\n",
       "mydata.train$lot.size.log:mydata.train$days.sqrt  0.011574   0.007109   1.628\n",
       "mydata.train$lot.size.log:mydata.train$age.sqrt   0.039909   0.011289   3.535\n",
       "                                                 Pr(>|t|)    \n",
       "(Intercept)                                       < 2e-16 ***\n",
       "mydata.train$floor.area.sqrt                      < 2e-16 ***\n",
       "mydata.train$lot.size.log                        0.201892    \n",
       "mydata.train$days.sqrt                           0.087717 .  \n",
       "mydata.train$age.sqrt                            0.000224 ***\n",
       "mydata.train$lot.size.log:mydata.train$days.sqrt 0.103807    \n",
       "mydata.train$lot.size.log:mydata.train$age.sqrt  0.000426 ***\n",
       "---\n",
       "Signif. codes:  0 '***' 0.001 '**' 0.01 '*' 0.05 '.' 0.1 ' ' 1\n",
       "\n",
       "Residual standard error: 0.2326 on 1035 degrees of freedom\n",
       "Multiple R-squared:  0.4081,\tAdjusted R-squared:  0.4047 \n",
       "F-statistic: 118.9 on 6 and 1035 DF,  p-value: < 2.2e-16\n"
      ]
     },
     "metadata": {},
     "output_type": "display_data"
    }
   ],
   "source": [
    "anova(z6,test='f')\n",
    "summary(z6)"
   ]
  },
  {
   "cell_type": "markdown",
   "metadata": {},
   "source": [
    "### F-test results\n",
    "1. The variable floor.area.sqrt is significant with an F-value of 609.82\n",
    "2. Some of the other variables that are significant based on their F-values are Log of Lot size, Sqrt. of age and the interaction between lot size log and age sqrt"
   ]
  },
  {
   "cell_type": "markdown",
   "metadata": {},
   "source": [
    "### T-test results\n",
    "1. The t-values of floor.area.sqrt, lot.size.log and age.sqrt are significant with values 17.328, 15.974 and 3.6 respectively.\n",
    "2. The p-values also indicate a similar result with the p-values being very small (indicating good results) for floor.area.sqrt, lot.size.log and age.sqrt."
   ]
  },
  {
   "cell_type": "markdown",
   "metadata": {},
   "source": [
    "---\n",
    "<a id=\"Prediction\"></a>\n",
    "## Using the model for prediction (1 mark)\n",
    "\n",
    "Generate predicted values using the **validation set data** as input in the final model. Make sure that you are still using the model that was fit to the training set data, and only using the test set data as new x-values.\n",
    "\n",
    "Calculate the mean absolute error (MAE) and root mean squared error (root MSE) for the validation set.\n",
    "If you transformed the y-variable, get predicted values back in the original units prior to calculating these."
   ]
  },
  {
   "cell_type": "code",
   "execution_count": 219,
   "metadata": {},
   "outputs": [
    {
     "data": {
      "text/html": [
       "<dl class=dl-horizontal>\n",
       "\t<dt>1043</dt>\n",
       "\t\t<dd>1735527.80761625</dd>\n",
       "\t<dt>1044</dt>\n",
       "\t\t<dd>1374462.30179036</dd>\n",
       "\t<dt>1045</dt>\n",
       "\t\t<dd>1918900.43025766</dd>\n",
       "\t<dt>1046</dt>\n",
       "\t\t<dd>1383847.07386939</dd>\n",
       "\t<dt>1047</dt>\n",
       "\t\t<dd>1868526.82080525</dd>\n",
       "\t<dt>1048</dt>\n",
       "\t\t<dd>1492507.31368292</dd>\n",
       "\t<dt>1049</dt>\n",
       "\t\t<dd>1430830.07744994</dd>\n",
       "\t<dt>1050</dt>\n",
       "\t\t<dd>1607660.11937204</dd>\n",
       "\t<dt>1051</dt>\n",
       "\t\t<dd>1470643.30503432</dd>\n",
       "\t<dt>1052</dt>\n",
       "\t\t<dd>2104231.47739696</dd>\n",
       "\t<dt>1053</dt>\n",
       "\t\t<dd>1999923.50630023</dd>\n",
       "\t<dt>1054</dt>\n",
       "\t\t<dd>1603178.47799697</dd>\n",
       "\t<dt>1055</dt>\n",
       "\t\t<dd>1628618.72797172</dd>\n",
       "\t<dt>1056</dt>\n",
       "\t\t<dd>1812353.61840514</dd>\n",
       "\t<dt>1057</dt>\n",
       "\t\t<dd>3949296.64275225</dd>\n",
       "\t<dt>1058</dt>\n",
       "\t\t<dd>1851958.82142333</dd>\n",
       "\t<dt>1059</dt>\n",
       "\t\t<dd>1624607.416931</dd>\n",
       "\t<dt>1060</dt>\n",
       "\t\t<dd>1600242.55866259</dd>\n",
       "\t<dt>1061</dt>\n",
       "\t\t<dd>1942026.70534049</dd>\n",
       "\t<dt>1062</dt>\n",
       "\t\t<dd>980694.883212544</dd>\n",
       "\t<dt>1063</dt>\n",
       "\t\t<dd>1701972.28217448</dd>\n",
       "\t<dt>1064</dt>\n",
       "\t\t<dd>1668509.01805786</dd>\n",
       "\t<dt>1065</dt>\n",
       "\t\t<dd>1841809.98504524</dd>\n",
       "\t<dt>1066</dt>\n",
       "\t\t<dd>2199332.39055473</dd>\n",
       "\t<dt>1067</dt>\n",
       "\t\t<dd>1685561.38706435</dd>\n",
       "\t<dt>1068</dt>\n",
       "\t\t<dd>2241013.74982072</dd>\n",
       "\t<dt>1069</dt>\n",
       "\t\t<dd>1429217.77804679</dd>\n",
       "\t<dt>1070</dt>\n",
       "\t\t<dd>1628164.49945801</dd>\n",
       "\t<dt>1071</dt>\n",
       "\t\t<dd>1299173.86204738</dd>\n",
       "\t<dt>1072</dt>\n",
       "\t\t<dd>1403375.58567855</dd>\n",
       "\t<dt>1073</dt>\n",
       "\t\t<dd>1119590.27090659</dd>\n",
       "\t<dt>1074</dt>\n",
       "\t\t<dd>2171962.3017406</dd>\n",
       "\t<dt>1075</dt>\n",
       "\t\t<dd>1655422.43034518</dd>\n",
       "\t<dt>1076</dt>\n",
       "\t\t<dd>1929116.75581313</dd>\n",
       "\t<dt>1077</dt>\n",
       "\t\t<dd>1777821.01558161</dd>\n",
       "\t<dt>1078</dt>\n",
       "\t\t<dd>1667968.47150696</dd>\n",
       "\t<dt>1079</dt>\n",
       "\t\t<dd>1991891.42406539</dd>\n",
       "\t<dt>1080</dt>\n",
       "\t\t<dd>1646854.97443643</dd>\n",
       "\t<dt>1081</dt>\n",
       "\t\t<dd>1136062.74038955</dd>\n",
       "\t<dt>1082</dt>\n",
       "\t\t<dd>1516916.52074087</dd>\n",
       "\t<dt>1083</dt>\n",
       "\t\t<dd>1019101.38039447</dd>\n",
       "\t<dt>1084</dt>\n",
       "\t\t<dd>2262760.7465977</dd>\n",
       "\t<dt>1085</dt>\n",
       "\t\t<dd>1657972.66722164</dd>\n",
       "\t<dt>1086</dt>\n",
       "\t\t<dd>1499139.89994079</dd>\n",
       "\t<dt>1087</dt>\n",
       "\t\t<dd>1775575.07060059</dd>\n",
       "\t<dt>1088</dt>\n",
       "\t\t<dd>1970962.85143544</dd>\n",
       "\t<dt>1089</dt>\n",
       "\t\t<dd>1574887.16497</dd>\n",
       "\t<dt>1090</dt>\n",
       "\t\t<dd>1317658.79859729</dd>\n",
       "\t<dt>1091</dt>\n",
       "\t\t<dd>1299912.07714459</dd>\n",
       "\t<dt>1092</dt>\n",
       "\t\t<dd>1830722.01710672</dd>\n",
       "\t<dt>1093</dt>\n",
       "\t\t<dd>1902900.06401513</dd>\n",
       "\t<dt>1094</dt>\n",
       "\t\t<dd>1337600.17471042</dd>\n",
       "\t<dt>1095</dt>\n",
       "\t\t<dd>1726081.52866309</dd>\n",
       "\t<dt>1096</dt>\n",
       "\t\t<dd>2080036.78238857</dd>\n",
       "\t<dt>1097</dt>\n",
       "\t\t<dd>1354740.428853</dd>\n",
       "\t<dt>1098</dt>\n",
       "\t\t<dd>1587170.12460307</dd>\n",
       "\t<dt>1099</dt>\n",
       "\t\t<dd>1738904.6981222</dd>\n",
       "\t<dt>1100</dt>\n",
       "\t\t<dd>1314137.13160544</dd>\n",
       "\t<dt>1101</dt>\n",
       "\t\t<dd>1665272.98372073</dd>\n",
       "\t<dt>1102</dt>\n",
       "\t\t<dd>1779217.37047973</dd>\n",
       "\t<dt>1103</dt>\n",
       "\t\t<dd>1700138.34249297</dd>\n",
       "\t<dt>1104</dt>\n",
       "\t\t<dd>1356773.84933169</dd>\n",
       "\t<dt>1105</dt>\n",
       "\t\t<dd>1997253.61073306</dd>\n",
       "\t<dt>1106</dt>\n",
       "\t\t<dd>1257860.15546377</dd>\n",
       "\t<dt>1107</dt>\n",
       "\t\t<dd>1434054.59003716</dd>\n",
       "\t<dt>1108</dt>\n",
       "\t\t<dd>1660642.39038169</dd>\n",
       "\t<dt>1109</dt>\n",
       "\t\t<dd>1928293.20689885</dd>\n",
       "\t<dt>1110</dt>\n",
       "\t\t<dd>1549204.28599374</dd>\n",
       "\t<dt>1111</dt>\n",
       "\t\t<dd>2265709.3148579</dd>\n",
       "\t<dt>1112</dt>\n",
       "\t\t<dd>1902661.20963474</dd>\n",
       "\t<dt>1113</dt>\n",
       "\t\t<dd>2453695.37121419</dd>\n",
       "\t<dt>1114</dt>\n",
       "\t\t<dd>2019965.19920282</dd>\n",
       "\t<dt>1115</dt>\n",
       "\t\t<dd>1476165.17232476</dd>\n",
       "\t<dt>1116</dt>\n",
       "\t\t<dd>1703228.29347618</dd>\n",
       "\t<dt>1117</dt>\n",
       "\t\t<dd>2285914.7077545</dd>\n",
       "\t<dt>1118</dt>\n",
       "\t\t<dd>2261877.29380751</dd>\n",
       "\t<dt>1119</dt>\n",
       "\t\t<dd>2371326.33180137</dd>\n",
       "\t<dt>1120</dt>\n",
       "\t\t<dd>1750556.78663772</dd>\n",
       "\t<dt>1121</dt>\n",
       "\t\t<dd>1227139.23533988</dd>\n",
       "\t<dt>1122</dt>\n",
       "\t\t<dd>1382049.01219439</dd>\n",
       "\t<dt>1123</dt>\n",
       "\t\t<dd>2310605.43228568</dd>\n",
       "\t<dt>1124</dt>\n",
       "\t\t<dd>1311814.65442695</dd>\n",
       "\t<dt>1125</dt>\n",
       "\t\t<dd>1897313.78583952</dd>\n",
       "\t<dt>1126</dt>\n",
       "\t\t<dd>1903872.68152156</dd>\n",
       "\t<dt>1127</dt>\n",
       "\t\t<dd>1540902.74769784</dd>\n",
       "\t<dt>1128</dt>\n",
       "\t\t<dd>1733249.08406768</dd>\n",
       "\t<dt>1129</dt>\n",
       "\t\t<dd>1632345.90543318</dd>\n",
       "\t<dt>1130</dt>\n",
       "\t\t<dd>1321150.21939858</dd>\n",
       "\t<dt>1131</dt>\n",
       "\t\t<dd>1275690.0685178</dd>\n",
       "\t<dt>1132</dt>\n",
       "\t\t<dd>2249490.56745304</dd>\n",
       "\t<dt>1133</dt>\n",
       "\t\t<dd>1641040.25475911</dd>\n",
       "\t<dt>1134</dt>\n",
       "\t\t<dd>1663060.97450205</dd>\n",
       "\t<dt>1135</dt>\n",
       "\t\t<dd>1336589.90683293</dd>\n",
       "\t<dt>1136</dt>\n",
       "\t\t<dd>1699216.69260143</dd>\n",
       "\t<dt>1137</dt>\n",
       "\t\t<dd>1584518.28816456</dd>\n",
       "\t<dt>1138</dt>\n",
       "\t\t<dd>1604719.27913002</dd>\n",
       "\t<dt>1139</dt>\n",
       "\t\t<dd>1635682.92073585</dd>\n",
       "\t<dt>1140</dt>\n",
       "\t\t<dd>1327215.33728162</dd>\n",
       "\t<dt>1141</dt>\n",
       "\t\t<dd>1706661.99938184</dd>\n",
       "\t<dt>1142</dt>\n",
       "\t\t<dd>1655725.64560766</dd>\n",
       "\t<dt>1143</dt>\n",
       "\t\t<dd>1448010.77522216</dd>\n",
       "\t<dt>1144</dt>\n",
       "\t\t<dd>1505993.70675768</dd>\n",
       "\t<dt>1145</dt>\n",
       "\t\t<dd>1535066.23140182</dd>\n",
       "\t<dt>1146</dt>\n",
       "\t\t<dd>1559363.47821179</dd>\n",
       "\t<dt>1147</dt>\n",
       "\t\t<dd>2346242.29383182</dd>\n",
       "\t<dt>1148</dt>\n",
       "\t\t<dd>1679179.17545979</dd>\n",
       "\t<dt>1149</dt>\n",
       "\t\t<dd>1432175.92810515</dd>\n",
       "\t<dt>1150</dt>\n",
       "\t\t<dd>1922836.73326082</dd>\n",
       "\t<dt>1151</dt>\n",
       "\t\t<dd>1549124.82146268</dd>\n",
       "\t<dt>1152</dt>\n",
       "\t\t<dd>1895014.57674472</dd>\n",
       "\t<dt>1153</dt>\n",
       "\t\t<dd>1446441.13264153</dd>\n",
       "\t<dt>1154</dt>\n",
       "\t\t<dd>2018226.46102439</dd>\n",
       "\t<dt>1155</dt>\n",
       "\t\t<dd>1537386.51402023</dd>\n",
       "\t<dt>1156</dt>\n",
       "\t\t<dd>2267430.83140354</dd>\n",
       "\t<dt>1157</dt>\n",
       "\t\t<dd>1582374.56805977</dd>\n",
       "\t<dt>1158</dt>\n",
       "\t\t<dd>1354169.32682353</dd>\n",
       "\t<dt>1159</dt>\n",
       "\t\t<dd>1753614.16082321</dd>\n",
       "\t<dt>1160</dt>\n",
       "\t\t<dd>1835128.47351792</dd>\n",
       "\t<dt>1161</dt>\n",
       "\t\t<dd>1498149.02054632</dd>\n",
       "\t<dt>1162</dt>\n",
       "\t\t<dd>1901760.9608866</dd>\n",
       "\t<dt>1163</dt>\n",
       "\t\t<dd>1237539.94545968</dd>\n",
       "\t<dt>1164</dt>\n",
       "\t\t<dd>1797651.63994452</dd>\n",
       "\t<dt>1165</dt>\n",
       "\t\t<dd>1714594.97349605</dd>\n",
       "\t<dt>1166</dt>\n",
       "\t\t<dd>1428280.46387586</dd>\n",
       "\t<dt>1167</dt>\n",
       "\t\t<dd>2096042.05550857</dd>\n",
       "\t<dt>1168</dt>\n",
       "\t\t<dd>1657066.34793607</dd>\n",
       "\t<dt>1169</dt>\n",
       "\t\t<dd>1446025.2304822</dd>\n",
       "\t<dt>1170</dt>\n",
       "\t\t<dd>2018066.84321925</dd>\n",
       "\t<dt>1171</dt>\n",
       "\t\t<dd>2712476.15699961</dd>\n",
       "\t<dt>1172</dt>\n",
       "\t\t<dd>1653588.79251097</dd>\n",
       "\t<dt>1173</dt>\n",
       "\t\t<dd>2269346.54229522</dd>\n",
       "\t<dt>1174</dt>\n",
       "\t\t<dd>2111824.50138708</dd>\n",
       "\t<dt>1175</dt>\n",
       "\t\t<dd>1474465.10012113</dd>\n",
       "\t<dt>1176</dt>\n",
       "\t\t<dd>1768094.9462367</dd>\n",
       "\t<dt>1177</dt>\n",
       "\t\t<dd>2532016.15771675</dd>\n",
       "\t<dt>1178</dt>\n",
       "\t\t<dd>1358580.79667188</dd>\n",
       "\t<dt>1179</dt>\n",
       "\t\t<dd>1773557.43910093</dd>\n",
       "\t<dt>1180</dt>\n",
       "\t\t<dd>1587155.08635858</dd>\n",
       "\t<dt>1181</dt>\n",
       "\t\t<dd>1734889.71897744</dd>\n",
       "\t<dt>1182</dt>\n",
       "\t\t<dd>1999904.31408509</dd>\n",
       "\t<dt>1183</dt>\n",
       "\t\t<dd>1951549.46251941</dd>\n",
       "\t<dt>1184</dt>\n",
       "\t\t<dd>1617187.7043438</dd>\n",
       "\t<dt>1185</dt>\n",
       "\t\t<dd>2594930.08899021</dd>\n",
       "\t<dt>1186</dt>\n",
       "\t\t<dd>1724156.63772291</dd>\n",
       "\t<dt>1187</dt>\n",
       "\t\t<dd>1814608.54662394</dd>\n",
       "\t<dt>1188</dt>\n",
       "\t\t<dd>1802153.31952789</dd>\n",
       "\t<dt>1189</dt>\n",
       "\t\t<dd>1414161.0199023</dd>\n",
       "\t<dt>1190</dt>\n",
       "\t\t<dd>1794511.41604745</dd>\n",
       "\t<dt>1191</dt>\n",
       "\t\t<dd>2721808.37890084</dd>\n",
       "\t<dt>1192</dt>\n",
       "\t\t<dd>1192731.8456769</dd>\n",
       "\t<dt>1193</dt>\n",
       "\t\t<dd>1117251.90449019</dd>\n",
       "\t<dt>1194</dt>\n",
       "\t\t<dd>1603025.74375361</dd>\n",
       "\t<dt>1195</dt>\n",
       "\t\t<dd>1646450.73091003</dd>\n",
       "\t<dt>1196</dt>\n",
       "\t\t<dd>2270091.15163972</dd>\n",
       "\t<dt>1197</dt>\n",
       "\t\t<dd>1103685.23918848</dd>\n",
       "\t<dt>1198</dt>\n",
       "\t\t<dd>1772296.28433466</dd>\n",
       "\t<dt>1199</dt>\n",
       "\t\t<dd>1893679.25573233</dd>\n",
       "\t<dt>1200</dt>\n",
       "\t\t<dd>1764556.22659179</dd>\n",
       "\t<dt>1201</dt>\n",
       "\t\t<dd>1982543.54962446</dd>\n",
       "\t<dt>1202</dt>\n",
       "\t\t<dd>1698631.05572265</dd>\n",
       "\t<dt>1203</dt>\n",
       "\t\t<dd>1555640.29537193</dd>\n",
       "\t<dt>1204</dt>\n",
       "\t\t<dd>1331651.83168724</dd>\n",
       "\t<dt>1205</dt>\n",
       "\t\t<dd>1945346.90695602</dd>\n",
       "\t<dt>1206</dt>\n",
       "\t\t<dd>1680093.66699888</dd>\n",
       "\t<dt>1207</dt>\n",
       "\t\t<dd>1371013.82855737</dd>\n",
       "\t<dt>1208</dt>\n",
       "\t\t<dd>1571732.81154461</dd>\n",
       "\t<dt>1209</dt>\n",
       "\t\t<dd>1515948.93925076</dd>\n",
       "\t<dt>1210</dt>\n",
       "\t\t<dd>1739240.11359893</dd>\n",
       "\t<dt>1211</dt>\n",
       "\t\t<dd>1468505.83140194</dd>\n",
       "\t<dt>1212</dt>\n",
       "\t\t<dd>1530143.33464056</dd>\n",
       "\t<dt>1213</dt>\n",
       "\t\t<dd>1570190.28454155</dd>\n",
       "\t<dt>1214</dt>\n",
       "\t\t<dd>1957139.92419325</dd>\n",
       "\t<dt>1215</dt>\n",
       "\t\t<dd>1604375.86147405</dd>\n",
       "\t<dt>1216</dt>\n",
       "\t\t<dd>1592113.11582008</dd>\n",
       "\t<dt>1217</dt>\n",
       "\t\t<dd>1541808.51225478</dd>\n",
       "\t<dt>1218</dt>\n",
       "\t\t<dd>2251639.90034836</dd>\n",
       "\t<dt>1219</dt>\n",
       "\t\t<dd>2406832.39185248</dd>\n",
       "\t<dt>1220</dt>\n",
       "\t\t<dd>1929528.14408695</dd>\n",
       "\t<dt>1221</dt>\n",
       "\t\t<dd>1416579.12837443</dd>\n",
       "\t<dt>1222</dt>\n",
       "\t\t<dd>1658523.64499417</dd>\n",
       "\t<dt>1223</dt>\n",
       "\t\t<dd>1780510.60451096</dd>\n",
       "\t<dt>1224</dt>\n",
       "\t\t<dd>1502728.75130962</dd>\n",
       "\t<dt>1225</dt>\n",
       "\t\t<dd>2044261.74929989</dd>\n",
       "\t<dt>1226</dt>\n",
       "\t\t<dd>1813874.91216505</dd>\n",
       "\t<dt>1227</dt>\n",
       "\t\t<dd>2032746.6254491</dd>\n",
       "\t<dt>1228</dt>\n",
       "\t\t<dd>1563710.26013174</dd>\n",
       "\t<dt>1229</dt>\n",
       "\t\t<dd>2061685.39637998</dd>\n",
       "\t<dt>1230</dt>\n",
       "\t\t<dd>2289620.75508877</dd>\n",
       "\t<dt>1231</dt>\n",
       "\t\t<dd>1767371.71978038</dd>\n",
       "\t<dt>1232</dt>\n",
       "\t\t<dd>2311839.29439964</dd>\n",
       "\t<dt>1233</dt>\n",
       "\t\t<dd>1572566.1714767</dd>\n",
       "\t<dt>1234</dt>\n",
       "\t\t<dd>1884988.32985905</dd>\n",
       "\t<dt>1235</dt>\n",
       "\t\t<dd>2067016.72351734</dd>\n",
       "\t<dt>1236</dt>\n",
       "\t\t<dd>1852106.11944391</dd>\n",
       "\t<dt>1237</dt>\n",
       "\t\t<dd>1690414.82707459</dd>\n",
       "\t<dt>1238</dt>\n",
       "\t\t<dd>2656806.21514978</dd>\n",
       "\t<dt>1239</dt>\n",
       "\t\t<dd>1443049.11732963</dd>\n",
       "\t<dt>1240</dt>\n",
       "\t\t<dd>2593201.02477913</dd>\n",
       "\t<dt>1241</dt>\n",
       "\t\t<dd>1873468.67078303</dd>\n",
       "\t<dt>1242</dt>\n",
       "\t\t<dd>1806332.87397978</dd>\n",
       "\t<dt>1243</dt>\n",
       "\t\t<dd>1541844.02969202</dd>\n",
       "\t<dt>1244</dt>\n",
       "\t\t<dd>1289714.46416427</dd>\n",
       "\t<dt>1245</dt>\n",
       "\t\t<dd>1349917.76646636</dd>\n",
       "\t<dt>1246</dt>\n",
       "\t\t<dd>1750776.29287456</dd>\n",
       "\t<dt>1247</dt>\n",
       "\t\t<dd>2141283.71063873</dd>\n",
       "\t<dt>1248</dt>\n",
       "\t\t<dd>2549613.22340496</dd>\n",
       "\t<dt>1249</dt>\n",
       "\t\t<dd>1598725.08634446</dd>\n",
       "\t<dt>1250</dt>\n",
       "\t\t<dd>1939624.25149029</dd>\n",
       "\t<dt>1251</dt>\n",
       "\t\t<dd>1538972.17285406</dd>\n",
       "\t<dt>1252</dt>\n",
       "\t\t<dd>1471780.89973966</dd>\n",
       "\t<dt>1253</dt>\n",
       "\t\t<dd>1373154.28663136</dd>\n",
       "\t<dt>1254</dt>\n",
       "\t\t<dd>1692719.59150601</dd>\n",
       "\t<dt>1255</dt>\n",
       "\t\t<dd>1798668.41552141</dd>\n",
       "\t<dt>1256</dt>\n",
       "\t\t<dd>1958786.54398111</dd>\n",
       "\t<dt>1257</dt>\n",
       "\t\t<dd>1361818.75936646</dd>\n",
       "\t<dt>1258</dt>\n",
       "\t\t<dd>1275403.42056888</dd>\n",
       "\t<dt>1259</dt>\n",
       "\t\t<dd>1369395.71492354</dd>\n",
       "\t<dt>1260</dt>\n",
       "\t\t<dd>1704740.88283885</dd>\n",
       "\t<dt>1261</dt>\n",
       "\t\t<dd>1587510.03983738</dd>\n",
       "\t<dt>1262</dt>\n",
       "\t\t<dd>1379745.56113046</dd>\n",
       "\t<dt>1263</dt>\n",
       "\t\t<dd>1593936.06641885</dd>\n",
       "\t<dt>1264</dt>\n",
       "\t\t<dd>1663709.83302472</dd>\n",
       "\t<dt>1265</dt>\n",
       "\t\t<dd>1642753.82710628</dd>\n",
       "\t<dt>1266</dt>\n",
       "\t\t<dd>1464294.0750987</dd>\n",
       "\t<dt>1267</dt>\n",
       "\t\t<dd>1659620.81733408</dd>\n",
       "\t<dt>1268</dt>\n",
       "\t\t<dd>1458259.87248393</dd>\n",
       "\t<dt>1269</dt>\n",
       "\t\t<dd>1773644.46374043</dd>\n",
       "\t<dt>1270</dt>\n",
       "\t\t<dd>2192796.67253403</dd>\n",
       "\t<dt>1271</dt>\n",
       "\t\t<dd>1452416.5960623</dd>\n",
       "\t<dt>1272</dt>\n",
       "\t\t<dd>1522084.66910193</dd>\n",
       "\t<dt>1273</dt>\n",
       "\t\t<dd>1743511.75508228</dd>\n",
       "\t<dt>1274</dt>\n",
       "\t\t<dd>1940929.1153429</dd>\n",
       "\t<dt>1275</dt>\n",
       "\t\t<dd>1927379.04388669</dd>\n",
       "\t<dt>1276</dt>\n",
       "\t\t<dd>1513316.7855065</dd>\n",
       "\t<dt>1277</dt>\n",
       "\t\t<dd>1812419.21512196</dd>\n",
       "\t<dt>1278</dt>\n",
       "\t\t<dd>1818682.4296848</dd>\n",
       "\t<dt>1279</dt>\n",
       "\t\t<dd>1481049.52900129</dd>\n",
       "\t<dt>1280</dt>\n",
       "\t\t<dd>1674994.75822008</dd>\n",
       "\t<dt>1281</dt>\n",
       "\t\t<dd>1303637.77077892</dd>\n",
       "\t<dt>1282</dt>\n",
       "\t\t<dd>1489197.02969854</dd>\n",
       "\t<dt>1283</dt>\n",
       "\t\t<dd>2440991.58850926</dd>\n",
       "\t<dt>1284</dt>\n",
       "\t\t<dd>1698006.17232864</dd>\n",
       "\t<dt>1285</dt>\n",
       "\t\t<dd>1761693.01046508</dd>\n",
       "\t<dt>1286</dt>\n",
       "\t\t<dd>1806138.62469709</dd>\n",
       "\t<dt>1287</dt>\n",
       "\t\t<dd>2712010.42417059</dd>\n",
       "\t<dt>1288</dt>\n",
       "\t\t<dd>1743083.69509179</dd>\n",
       "\t<dt>1289</dt>\n",
       "\t\t<dd>1809340.74667379</dd>\n",
       "\t<dt>1290</dt>\n",
       "\t\t<dd>1181633.88605203</dd>\n",
       "\t<dt>1291</dt>\n",
       "\t\t<dd>1350763.4347099</dd>\n",
       "\t<dt>1292</dt>\n",
       "\t\t<dd>1569686.79029054</dd>\n",
       "\t<dt>1293</dt>\n",
       "\t\t<dd>1691201.28305162</dd>\n",
       "\t<dt>1294</dt>\n",
       "\t\t<dd>1546045.3959014</dd>\n",
       "\t<dt>1295</dt>\n",
       "\t\t<dd>1219097.53178959</dd>\n",
       "\t<dt>1296</dt>\n",
       "\t\t<dd>1638035.7049939</dd>\n",
       "\t<dt>1297</dt>\n",
       "\t\t<dd>2501922.79335788</dd>\n",
       "\t<dt>1298</dt>\n",
       "\t\t<dd>2201343.8358831</dd>\n",
       "\t<dt>1299</dt>\n",
       "\t\t<dd>1653866.87110043</dd>\n",
       "\t<dt>1300</dt>\n",
       "\t\t<dd>2246481.72377689</dd>\n",
       "\t<dt>1301</dt>\n",
       "\t\t<dd>1406585.48458126</dd>\n",
       "\t<dt>1302</dt>\n",
       "\t\t<dd>1832136.64427425</dd>\n",
       "</dl>\n"
      ],
      "text/latex": [
       "\\begin{description*}\n",
       "\\item[1043] 1735527.80761625\n",
       "\\item[1044] 1374462.30179036\n",
       "\\item[1045] 1918900.43025766\n",
       "\\item[1046] 1383847.07386939\n",
       "\\item[1047] 1868526.82080525\n",
       "\\item[1048] 1492507.31368292\n",
       "\\item[1049] 1430830.07744994\n",
       "\\item[1050] 1607660.11937204\n",
       "\\item[1051] 1470643.30503432\n",
       "\\item[1052] 2104231.47739696\n",
       "\\item[1053] 1999923.50630023\n",
       "\\item[1054] 1603178.47799697\n",
       "\\item[1055] 1628618.72797172\n",
       "\\item[1056] 1812353.61840514\n",
       "\\item[1057] 3949296.64275225\n",
       "\\item[1058] 1851958.82142333\n",
       "\\item[1059] 1624607.416931\n",
       "\\item[1060] 1600242.55866259\n",
       "\\item[1061] 1942026.70534049\n",
       "\\item[1062] 980694.883212544\n",
       "\\item[1063] 1701972.28217448\n",
       "\\item[1064] 1668509.01805786\n",
       "\\item[1065] 1841809.98504524\n",
       "\\item[1066] 2199332.39055473\n",
       "\\item[1067] 1685561.38706435\n",
       "\\item[1068] 2241013.74982072\n",
       "\\item[1069] 1429217.77804679\n",
       "\\item[1070] 1628164.49945801\n",
       "\\item[1071] 1299173.86204738\n",
       "\\item[1072] 1403375.58567855\n",
       "\\item[1073] 1119590.27090659\n",
       "\\item[1074] 2171962.3017406\n",
       "\\item[1075] 1655422.43034518\n",
       "\\item[1076] 1929116.75581313\n",
       "\\item[1077] 1777821.01558161\n",
       "\\item[1078] 1667968.47150696\n",
       "\\item[1079] 1991891.42406539\n",
       "\\item[1080] 1646854.97443643\n",
       "\\item[1081] 1136062.74038955\n",
       "\\item[1082] 1516916.52074087\n",
       "\\item[1083] 1019101.38039447\n",
       "\\item[1084] 2262760.7465977\n",
       "\\item[1085] 1657972.66722164\n",
       "\\item[1086] 1499139.89994079\n",
       "\\item[1087] 1775575.07060059\n",
       "\\item[1088] 1970962.85143544\n",
       "\\item[1089] 1574887.16497\n",
       "\\item[1090] 1317658.79859729\n",
       "\\item[1091] 1299912.07714459\n",
       "\\item[1092] 1830722.01710672\n",
       "\\item[1093] 1902900.06401513\n",
       "\\item[1094] 1337600.17471042\n",
       "\\item[1095] 1726081.52866309\n",
       "\\item[1096] 2080036.78238857\n",
       "\\item[1097] 1354740.428853\n",
       "\\item[1098] 1587170.12460307\n",
       "\\item[1099] 1738904.6981222\n",
       "\\item[1100] 1314137.13160544\n",
       "\\item[1101] 1665272.98372073\n",
       "\\item[1102] 1779217.37047973\n",
       "\\item[1103] 1700138.34249297\n",
       "\\item[1104] 1356773.84933169\n",
       "\\item[1105] 1997253.61073306\n",
       "\\item[1106] 1257860.15546377\n",
       "\\item[1107] 1434054.59003716\n",
       "\\item[1108] 1660642.39038169\n",
       "\\item[1109] 1928293.20689885\n",
       "\\item[1110] 1549204.28599374\n",
       "\\item[1111] 2265709.3148579\n",
       "\\item[1112] 1902661.20963474\n",
       "\\item[1113] 2453695.37121419\n",
       "\\item[1114] 2019965.19920282\n",
       "\\item[1115] 1476165.17232476\n",
       "\\item[1116] 1703228.29347618\n",
       "\\item[1117] 2285914.7077545\n",
       "\\item[1118] 2261877.29380751\n",
       "\\item[1119] 2371326.33180137\n",
       "\\item[1120] 1750556.78663772\n",
       "\\item[1121] 1227139.23533988\n",
       "\\item[1122] 1382049.01219439\n",
       "\\item[1123] 2310605.43228568\n",
       "\\item[1124] 1311814.65442695\n",
       "\\item[1125] 1897313.78583952\n",
       "\\item[1126] 1903872.68152156\n",
       "\\item[1127] 1540902.74769784\n",
       "\\item[1128] 1733249.08406768\n",
       "\\item[1129] 1632345.90543318\n",
       "\\item[1130] 1321150.21939858\n",
       "\\item[1131] 1275690.0685178\n",
       "\\item[1132] 2249490.56745304\n",
       "\\item[1133] 1641040.25475911\n",
       "\\item[1134] 1663060.97450205\n",
       "\\item[1135] 1336589.90683293\n",
       "\\item[1136] 1699216.69260143\n",
       "\\item[1137] 1584518.28816456\n",
       "\\item[1138] 1604719.27913002\n",
       "\\item[1139] 1635682.92073585\n",
       "\\item[1140] 1327215.33728162\n",
       "\\item[1141] 1706661.99938184\n",
       "\\item[1142] 1655725.64560766\n",
       "\\item[1143] 1448010.77522216\n",
       "\\item[1144] 1505993.70675768\n",
       "\\item[1145] 1535066.23140182\n",
       "\\item[1146] 1559363.47821179\n",
       "\\item[1147] 2346242.29383182\n",
       "\\item[1148] 1679179.17545979\n",
       "\\item[1149] 1432175.92810515\n",
       "\\item[1150] 1922836.73326082\n",
       "\\item[1151] 1549124.82146268\n",
       "\\item[1152] 1895014.57674472\n",
       "\\item[1153] 1446441.13264153\n",
       "\\item[1154] 2018226.46102439\n",
       "\\item[1155] 1537386.51402023\n",
       "\\item[1156] 2267430.83140354\n",
       "\\item[1157] 1582374.56805977\n",
       "\\item[1158] 1354169.32682353\n",
       "\\item[1159] 1753614.16082321\n",
       "\\item[1160] 1835128.47351792\n",
       "\\item[1161] 1498149.02054632\n",
       "\\item[1162] 1901760.9608866\n",
       "\\item[1163] 1237539.94545968\n",
       "\\item[1164] 1797651.63994452\n",
       "\\item[1165] 1714594.97349605\n",
       "\\item[1166] 1428280.46387586\n",
       "\\item[1167] 2096042.05550857\n",
       "\\item[1168] 1657066.34793607\n",
       "\\item[1169] 1446025.2304822\n",
       "\\item[1170] 2018066.84321925\n",
       "\\item[1171] 2712476.15699961\n",
       "\\item[1172] 1653588.79251097\n",
       "\\item[1173] 2269346.54229522\n",
       "\\item[1174] 2111824.50138708\n",
       "\\item[1175] 1474465.10012113\n",
       "\\item[1176] 1768094.9462367\n",
       "\\item[1177] 2532016.15771675\n",
       "\\item[1178] 1358580.79667188\n",
       "\\item[1179] 1773557.43910093\n",
       "\\item[1180] 1587155.08635858\n",
       "\\item[1181] 1734889.71897744\n",
       "\\item[1182] 1999904.31408509\n",
       "\\item[1183] 1951549.46251941\n",
       "\\item[1184] 1617187.7043438\n",
       "\\item[1185] 2594930.08899021\n",
       "\\item[1186] 1724156.63772291\n",
       "\\item[1187] 1814608.54662394\n",
       "\\item[1188] 1802153.31952789\n",
       "\\item[1189] 1414161.0199023\n",
       "\\item[1190] 1794511.41604745\n",
       "\\item[1191] 2721808.37890084\n",
       "\\item[1192] 1192731.8456769\n",
       "\\item[1193] 1117251.90449019\n",
       "\\item[1194] 1603025.74375361\n",
       "\\item[1195] 1646450.73091003\n",
       "\\item[1196] 2270091.15163972\n",
       "\\item[1197] 1103685.23918848\n",
       "\\item[1198] 1772296.28433466\n",
       "\\item[1199] 1893679.25573233\n",
       "\\item[1200] 1764556.22659179\n",
       "\\item[1201] 1982543.54962446\n",
       "\\item[1202] 1698631.05572265\n",
       "\\item[1203] 1555640.29537193\n",
       "\\item[1204] 1331651.83168724\n",
       "\\item[1205] 1945346.90695602\n",
       "\\item[1206] 1680093.66699888\n",
       "\\item[1207] 1371013.82855737\n",
       "\\item[1208] 1571732.81154461\n",
       "\\item[1209] 1515948.93925076\n",
       "\\item[1210] 1739240.11359893\n",
       "\\item[1211] 1468505.83140194\n",
       "\\item[1212] 1530143.33464056\n",
       "\\item[1213] 1570190.28454155\n",
       "\\item[1214] 1957139.92419325\n",
       "\\item[1215] 1604375.86147405\n",
       "\\item[1216] 1592113.11582008\n",
       "\\item[1217] 1541808.51225478\n",
       "\\item[1218] 2251639.90034836\n",
       "\\item[1219] 2406832.39185248\n",
       "\\item[1220] 1929528.14408695\n",
       "\\item[1221] 1416579.12837443\n",
       "\\item[1222] 1658523.64499417\n",
       "\\item[1223] 1780510.60451096\n",
       "\\item[1224] 1502728.75130962\n",
       "\\item[1225] 2044261.74929989\n",
       "\\item[1226] 1813874.91216505\n",
       "\\item[1227] 2032746.6254491\n",
       "\\item[1228] 1563710.26013174\n",
       "\\item[1229] 2061685.39637998\n",
       "\\item[1230] 2289620.75508877\n",
       "\\item[1231] 1767371.71978038\n",
       "\\item[1232] 2311839.29439964\n",
       "\\item[1233] 1572566.1714767\n",
       "\\item[1234] 1884988.32985905\n",
       "\\item[1235] 2067016.72351734\n",
       "\\item[1236] 1852106.11944391\n",
       "\\item[1237] 1690414.82707459\n",
       "\\item[1238] 2656806.21514978\n",
       "\\item[1239] 1443049.11732963\n",
       "\\item[1240] 2593201.02477913\n",
       "\\item[1241] 1873468.67078303\n",
       "\\item[1242] 1806332.87397978\n",
       "\\item[1243] 1541844.02969202\n",
       "\\item[1244] 1289714.46416427\n",
       "\\item[1245] 1349917.76646636\n",
       "\\item[1246] 1750776.29287456\n",
       "\\item[1247] 2141283.71063873\n",
       "\\item[1248] 2549613.22340496\n",
       "\\item[1249] 1598725.08634446\n",
       "\\item[1250] 1939624.25149029\n",
       "\\item[1251] 1538972.17285406\n",
       "\\item[1252] 1471780.89973966\n",
       "\\item[1253] 1373154.28663136\n",
       "\\item[1254] 1692719.59150601\n",
       "\\item[1255] 1798668.41552141\n",
       "\\item[1256] 1958786.54398111\n",
       "\\item[1257] 1361818.75936646\n",
       "\\item[1258] 1275403.42056888\n",
       "\\item[1259] 1369395.71492354\n",
       "\\item[1260] 1704740.88283885\n",
       "\\item[1261] 1587510.03983738\n",
       "\\item[1262] 1379745.56113046\n",
       "\\item[1263] 1593936.06641885\n",
       "\\item[1264] 1663709.83302472\n",
       "\\item[1265] 1642753.82710628\n",
       "\\item[1266] 1464294.0750987\n",
       "\\item[1267] 1659620.81733408\n",
       "\\item[1268] 1458259.87248393\n",
       "\\item[1269] 1773644.46374043\n",
       "\\item[1270] 2192796.67253403\n",
       "\\item[1271] 1452416.5960623\n",
       "\\item[1272] 1522084.66910193\n",
       "\\item[1273] 1743511.75508228\n",
       "\\item[1274] 1940929.1153429\n",
       "\\item[1275] 1927379.04388669\n",
       "\\item[1276] 1513316.7855065\n",
       "\\item[1277] 1812419.21512196\n",
       "\\item[1278] 1818682.4296848\n",
       "\\item[1279] 1481049.52900129\n",
       "\\item[1280] 1674994.75822008\n",
       "\\item[1281] 1303637.77077892\n",
       "\\item[1282] 1489197.02969854\n",
       "\\item[1283] 2440991.58850926\n",
       "\\item[1284] 1698006.17232864\n",
       "\\item[1285] 1761693.01046508\n",
       "\\item[1286] 1806138.62469709\n",
       "\\item[1287] 2712010.42417059\n",
       "\\item[1288] 1743083.69509179\n",
       "\\item[1289] 1809340.74667379\n",
       "\\item[1290] 1181633.88605203\n",
       "\\item[1291] 1350763.4347099\n",
       "\\item[1292] 1569686.79029054\n",
       "\\item[1293] 1691201.28305162\n",
       "\\item[1294] 1546045.3959014\n",
       "\\item[1295] 1219097.53178959\n",
       "\\item[1296] 1638035.7049939\n",
       "\\item[1297] 2501922.79335788\n",
       "\\item[1298] 2201343.8358831\n",
       "\\item[1299] 1653866.87110043\n",
       "\\item[1300] 2246481.72377689\n",
       "\\item[1301] 1406585.48458126\n",
       "\\item[1302] 1832136.64427425\n",
       "\\end{description*}\n"
      ],
      "text/markdown": [
       "1043\n",
       ":   1735527.807616251044\n",
       ":   1374462.301790361045\n",
       ":   1918900.430257661046\n",
       ":   1383847.073869391047\n",
       ":   1868526.820805251048\n",
       ":   1492507.313682921049\n",
       ":   1430830.077449941050\n",
       ":   1607660.119372041051\n",
       ":   1470643.305034321052\n",
       ":   2104231.477396961053\n",
       ":   1999923.506300231054\n",
       ":   1603178.477996971055\n",
       ":   1628618.727971721056\n",
       ":   1812353.618405141057\n",
       ":   3949296.642752251058\n",
       ":   1851958.821423331059\n",
       ":   1624607.4169311060\n",
       ":   1600242.558662591061\n",
       ":   1942026.705340491062\n",
       ":   980694.8832125441063\n",
       ":   1701972.282174481064\n",
       ":   1668509.018057861065\n",
       ":   1841809.985045241066\n",
       ":   2199332.390554731067\n",
       ":   1685561.387064351068\n",
       ":   2241013.749820721069\n",
       ":   1429217.778046791070\n",
       ":   1628164.499458011071\n",
       ":   1299173.862047381072\n",
       ":   1403375.585678551073\n",
       ":   1119590.270906591074\n",
       ":   2171962.30174061075\n",
       ":   1655422.430345181076\n",
       ":   1929116.755813131077\n",
       ":   1777821.015581611078\n",
       ":   1667968.471506961079\n",
       ":   1991891.424065391080\n",
       ":   1646854.974436431081\n",
       ":   1136062.740389551082\n",
       ":   1516916.520740871083\n",
       ":   1019101.380394471084\n",
       ":   2262760.74659771085\n",
       ":   1657972.667221641086\n",
       ":   1499139.899940791087\n",
       ":   1775575.070600591088\n",
       ":   1970962.851435441089\n",
       ":   1574887.164971090\n",
       ":   1317658.798597291091\n",
       ":   1299912.077144591092\n",
       ":   1830722.017106721093\n",
       ":   1902900.064015131094\n",
       ":   1337600.174710421095\n",
       ":   1726081.528663091096\n",
       ":   2080036.782388571097\n",
       ":   1354740.4288531098\n",
       ":   1587170.124603071099\n",
       ":   1738904.69812221100\n",
       ":   1314137.131605441101\n",
       ":   1665272.983720731102\n",
       ":   1779217.370479731103\n",
       ":   1700138.342492971104\n",
       ":   1356773.849331691105\n",
       ":   1997253.610733061106\n",
       ":   1257860.155463771107\n",
       ":   1434054.590037161108\n",
       ":   1660642.390381691109\n",
       ":   1928293.206898851110\n",
       ":   1549204.285993741111\n",
       ":   2265709.31485791112\n",
       ":   1902661.209634741113\n",
       ":   2453695.371214191114\n",
       ":   2019965.199202821115\n",
       ":   1476165.172324761116\n",
       ":   1703228.293476181117\n",
       ":   2285914.70775451118\n",
       ":   2261877.293807511119\n",
       ":   2371326.331801371120\n",
       ":   1750556.786637721121\n",
       ":   1227139.235339881122\n",
       ":   1382049.012194391123\n",
       ":   2310605.432285681124\n",
       ":   1311814.654426951125\n",
       ":   1897313.785839521126\n",
       ":   1903872.681521561127\n",
       ":   1540902.747697841128\n",
       ":   1733249.084067681129\n",
       ":   1632345.905433181130\n",
       ":   1321150.219398581131\n",
       ":   1275690.06851781132\n",
       ":   2249490.567453041133\n",
       ":   1641040.254759111134\n",
       ":   1663060.974502051135\n",
       ":   1336589.906832931136\n",
       ":   1699216.692601431137\n",
       ":   1584518.288164561138\n",
       ":   1604719.279130021139\n",
       ":   1635682.920735851140\n",
       ":   1327215.337281621141\n",
       ":   1706661.999381841142\n",
       ":   1655725.645607661143\n",
       ":   1448010.775222161144\n",
       ":   1505993.706757681145\n",
       ":   1535066.231401821146\n",
       ":   1559363.478211791147\n",
       ":   2346242.293831821148\n",
       ":   1679179.175459791149\n",
       ":   1432175.928105151150\n",
       ":   1922836.733260821151\n",
       ":   1549124.821462681152\n",
       ":   1895014.576744721153\n",
       ":   1446441.132641531154\n",
       ":   2018226.461024391155\n",
       ":   1537386.514020231156\n",
       ":   2267430.831403541157\n",
       ":   1582374.568059771158\n",
       ":   1354169.326823531159\n",
       ":   1753614.160823211160\n",
       ":   1835128.473517921161\n",
       ":   1498149.020546321162\n",
       ":   1901760.96088661163\n",
       ":   1237539.945459681164\n",
       ":   1797651.639944521165\n",
       ":   1714594.973496051166\n",
       ":   1428280.463875861167\n",
       ":   2096042.055508571168\n",
       ":   1657066.347936071169\n",
       ":   1446025.23048221170\n",
       ":   2018066.843219251171\n",
       ":   2712476.156999611172\n",
       ":   1653588.792510971173\n",
       ":   2269346.542295221174\n",
       ":   2111824.501387081175\n",
       ":   1474465.100121131176\n",
       ":   1768094.94623671177\n",
       ":   2532016.157716751178\n",
       ":   1358580.796671881179\n",
       ":   1773557.439100931180\n",
       ":   1587155.086358581181\n",
       ":   1734889.718977441182\n",
       ":   1999904.314085091183\n",
       ":   1951549.462519411184\n",
       ":   1617187.70434381185\n",
       ":   2594930.088990211186\n",
       ":   1724156.637722911187\n",
       ":   1814608.546623941188\n",
       ":   1802153.319527891189\n",
       ":   1414161.01990231190\n",
       ":   1794511.416047451191\n",
       ":   2721808.378900841192\n",
       ":   1192731.84567691193\n",
       ":   1117251.904490191194\n",
       ":   1603025.743753611195\n",
       ":   1646450.730910031196\n",
       ":   2270091.151639721197\n",
       ":   1103685.239188481198\n",
       ":   1772296.284334661199\n",
       ":   1893679.255732331200\n",
       ":   1764556.226591791201\n",
       ":   1982543.549624461202\n",
       ":   1698631.055722651203\n",
       ":   1555640.295371931204\n",
       ":   1331651.831687241205\n",
       ":   1945346.906956021206\n",
       ":   1680093.666998881207\n",
       ":   1371013.828557371208\n",
       ":   1571732.811544611209\n",
       ":   1515948.939250761210\n",
       ":   1739240.113598931211\n",
       ":   1468505.831401941212\n",
       ":   1530143.334640561213\n",
       ":   1570190.284541551214\n",
       ":   1957139.924193251215\n",
       ":   1604375.861474051216\n",
       ":   1592113.115820081217\n",
       ":   1541808.512254781218\n",
       ":   2251639.900348361219\n",
       ":   2406832.391852481220\n",
       ":   1929528.144086951221\n",
       ":   1416579.128374431222\n",
       ":   1658523.644994171223\n",
       ":   1780510.604510961224\n",
       ":   1502728.751309621225\n",
       ":   2044261.749299891226\n",
       ":   1813874.912165051227\n",
       ":   2032746.62544911228\n",
       ":   1563710.260131741229\n",
       ":   2061685.396379981230\n",
       ":   2289620.755088771231\n",
       ":   1767371.719780381232\n",
       ":   2311839.294399641233\n",
       ":   1572566.17147671234\n",
       ":   1884988.329859051235\n",
       ":   2067016.723517341236\n",
       ":   1852106.119443911237\n",
       ":   1690414.827074591238\n",
       ":   2656806.215149781239\n",
       ":   1443049.117329631240\n",
       ":   2593201.024779131241\n",
       ":   1873468.670783031242\n",
       ":   1806332.873979781243\n",
       ":   1541844.029692021244\n",
       ":   1289714.464164271245\n",
       ":   1349917.766466361246\n",
       ":   1750776.292874561247\n",
       ":   2141283.710638731248\n",
       ":   2549613.223404961249\n",
       ":   1598725.086344461250\n",
       ":   1939624.251490291251\n",
       ":   1538972.172854061252\n",
       ":   1471780.899739661253\n",
       ":   1373154.286631361254\n",
       ":   1692719.591506011255\n",
       ":   1798668.415521411256\n",
       ":   1958786.543981111257\n",
       ":   1361818.759366461258\n",
       ":   1275403.420568881259\n",
       ":   1369395.714923541260\n",
       ":   1704740.882838851261\n",
       ":   1587510.039837381262\n",
       ":   1379745.561130461263\n",
       ":   1593936.066418851264\n",
       ":   1663709.833024721265\n",
       ":   1642753.827106281266\n",
       ":   1464294.07509871267\n",
       ":   1659620.817334081268\n",
       ":   1458259.872483931269\n",
       ":   1773644.463740431270\n",
       ":   2192796.672534031271\n",
       ":   1452416.59606231272\n",
       ":   1522084.669101931273\n",
       ":   1743511.755082281274\n",
       ":   1940929.11534291275\n",
       ":   1927379.043886691276\n",
       ":   1513316.78550651277\n",
       ":   1812419.215121961278\n",
       ":   1818682.42968481279\n",
       ":   1481049.529001291280\n",
       ":   1674994.758220081281\n",
       ":   1303637.770778921282\n",
       ":   1489197.029698541283\n",
       ":   2440991.588509261284\n",
       ":   1698006.172328641285\n",
       ":   1761693.010465081286\n",
       ":   1806138.624697091287\n",
       ":   2712010.424170591288\n",
       ":   1743083.695091791289\n",
       ":   1809340.746673791290\n",
       ":   1181633.886052031291\n",
       ":   1350763.43470991292\n",
       ":   1569686.790290541293\n",
       ":   1691201.283051621294\n",
       ":   1546045.39590141295\n",
       ":   1219097.531789591296\n",
       ":   1638035.70499391297\n",
       ":   2501922.793357881298\n",
       ":   2201343.83588311299\n",
       ":   1653866.871100431300\n",
       ":   2246481.723776891301\n",
       ":   1406585.484581261302\n",
       ":   1832136.64427425\n",
       "\n"
      ],
      "text/plain": [
       "     1043      1044      1045      1046      1047      1048      1049      1050 \n",
       "1735527.8 1374462.3 1918900.4 1383847.1 1868526.8 1492507.3 1430830.1 1607660.1 \n",
       "     1051      1052      1053      1054      1055      1056      1057      1058 \n",
       "1470643.3 2104231.5 1999923.5 1603178.5 1628618.7 1812353.6 3949296.6 1851958.8 \n",
       "     1059      1060      1061      1062      1063      1064      1065      1066 \n",
       "1624607.4 1600242.6 1942026.7  980694.9 1701972.3 1668509.0 1841810.0 2199332.4 \n",
       "     1067      1068      1069      1070      1071      1072      1073      1074 \n",
       "1685561.4 2241013.7 1429217.8 1628164.5 1299173.9 1403375.6 1119590.3 2171962.3 \n",
       "     1075      1076      1077      1078      1079      1080      1081      1082 \n",
       "1655422.4 1929116.8 1777821.0 1667968.5 1991891.4 1646855.0 1136062.7 1516916.5 \n",
       "     1083      1084      1085      1086      1087      1088      1089      1090 \n",
       "1019101.4 2262760.7 1657972.7 1499139.9 1775575.1 1970962.9 1574887.2 1317658.8 \n",
       "     1091      1092      1093      1094      1095      1096      1097      1098 \n",
       "1299912.1 1830722.0 1902900.1 1337600.2 1726081.5 2080036.8 1354740.4 1587170.1 \n",
       "     1099      1100      1101      1102      1103      1104      1105      1106 \n",
       "1738904.7 1314137.1 1665273.0 1779217.4 1700138.3 1356773.8 1997253.6 1257860.2 \n",
       "     1107      1108      1109      1110      1111      1112      1113      1114 \n",
       "1434054.6 1660642.4 1928293.2 1549204.3 2265709.3 1902661.2 2453695.4 2019965.2 \n",
       "     1115      1116      1117      1118      1119      1120      1121      1122 \n",
       "1476165.2 1703228.3 2285914.7 2261877.3 2371326.3 1750556.8 1227139.2 1382049.0 \n",
       "     1123      1124      1125      1126      1127      1128      1129      1130 \n",
       "2310605.4 1311814.7 1897313.8 1903872.7 1540902.7 1733249.1 1632345.9 1321150.2 \n",
       "     1131      1132      1133      1134      1135      1136      1137      1138 \n",
       "1275690.1 2249490.6 1641040.3 1663061.0 1336589.9 1699216.7 1584518.3 1604719.3 \n",
       "     1139      1140      1141      1142      1143      1144      1145      1146 \n",
       "1635682.9 1327215.3 1706662.0 1655725.6 1448010.8 1505993.7 1535066.2 1559363.5 \n",
       "     1147      1148      1149      1150      1151      1152      1153      1154 \n",
       "2346242.3 1679179.2 1432175.9 1922836.7 1549124.8 1895014.6 1446441.1 2018226.5 \n",
       "     1155      1156      1157      1158      1159      1160      1161      1162 \n",
       "1537386.5 2267430.8 1582374.6 1354169.3 1753614.2 1835128.5 1498149.0 1901761.0 \n",
       "     1163      1164      1165      1166      1167      1168      1169      1170 \n",
       "1237539.9 1797651.6 1714595.0 1428280.5 2096042.1 1657066.3 1446025.2 2018066.8 \n",
       "     1171      1172      1173      1174      1175      1176      1177      1178 \n",
       "2712476.2 1653588.8 2269346.5 2111824.5 1474465.1 1768094.9 2532016.2 1358580.8 \n",
       "     1179      1180      1181      1182      1183      1184      1185      1186 \n",
       "1773557.4 1587155.1 1734889.7 1999904.3 1951549.5 1617187.7 2594930.1 1724156.6 \n",
       "     1187      1188      1189      1190      1191      1192      1193      1194 \n",
       "1814608.5 1802153.3 1414161.0 1794511.4 2721808.4 1192731.8 1117251.9 1603025.7 \n",
       "     1195      1196      1197      1198      1199      1200      1201      1202 \n",
       "1646450.7 2270091.2 1103685.2 1772296.3 1893679.3 1764556.2 1982543.5 1698631.1 \n",
       "     1203      1204      1205      1206      1207      1208      1209      1210 \n",
       "1555640.3 1331651.8 1945346.9 1680093.7 1371013.8 1571732.8 1515948.9 1739240.1 \n",
       "     1211      1212      1213      1214      1215      1216      1217      1218 \n",
       "1468505.8 1530143.3 1570190.3 1957139.9 1604375.9 1592113.1 1541808.5 2251639.9 \n",
       "     1219      1220      1221      1222      1223      1224      1225      1226 \n",
       "2406832.4 1929528.1 1416579.1 1658523.6 1780510.6 1502728.8 2044261.7 1813874.9 \n",
       "     1227      1228      1229      1230      1231      1232      1233      1234 \n",
       "2032746.6 1563710.3 2061685.4 2289620.8 1767371.7 2311839.3 1572566.2 1884988.3 \n",
       "     1235      1236      1237      1238      1239      1240      1241      1242 \n",
       "2067016.7 1852106.1 1690414.8 2656806.2 1443049.1 2593201.0 1873468.7 1806332.9 \n",
       "     1243      1244      1245      1246      1247      1248      1249      1250 \n",
       "1541844.0 1289714.5 1349917.8 1750776.3 2141283.7 2549613.2 1598725.1 1939624.3 \n",
       "     1251      1252      1253      1254      1255      1256      1257      1258 \n",
       "1538972.2 1471780.9 1373154.3 1692719.6 1798668.4 1958786.5 1361818.8 1275403.4 \n",
       "     1259      1260      1261      1262      1263      1264      1265      1266 \n",
       "1369395.7 1704740.9 1587510.0 1379745.6 1593936.1 1663709.8 1642753.8 1464294.1 \n",
       "     1267      1268      1269      1270      1271      1272      1273      1274 \n",
       "1659620.8 1458259.9 1773644.5 2192796.7 1452416.6 1522084.7 1743511.8 1940929.1 \n",
       "     1275      1276      1277      1278      1279      1280      1281      1282 \n",
       "1927379.0 1513316.8 1812419.2 1818682.4 1481049.5 1674994.8 1303637.8 1489197.0 \n",
       "     1283      1284      1285      1286      1287      1288      1289      1290 \n",
       "2440991.6 1698006.2 1761693.0 1806138.6 2712010.4 1743083.7 1809340.7 1181633.9 \n",
       "     1291      1292      1293      1294      1295      1296      1297      1298 \n",
       "1350763.4 1569686.8 1691201.3 1546045.4 1219097.5 1638035.7 2501922.8 2201343.8 \n",
       "     1299      1300      1301      1302 \n",
       "1653866.9 2246481.7 1406585.5 1832136.6 "
      ]
     },
     "metadata": {},
     "output_type": "display_data"
    }
   ],
   "source": [
    "# Include your code here\n",
    "mydata.valid$days.log <- log(mydata.valid$Days +1)\n",
    "mydata.valid$floor.area.log <- log(mydata.valid$Total.floor.area)\n",
    "mydata.valid$age.log <- log(mydata.valid$Age + 1)\n",
    "mydata.valid$lot.size.log <- log(mydata.valid$Lot.Size)\n",
    "\n",
    "mydata.valid$days.sqrt <- sqrt(mydata.valid$Days)\n",
    "mydata.valid$floor.area.sqrt <- sqrt(mydata.valid$Total.floor.area)\n",
    "mydata.valid$age.sqrt <- sqrt(mydata.valid$Age)\n",
    "mydata.valid$lot.size.sqrt <- sqrt(mydata.valid$Lot.Size)\n",
    "\n",
    "mydata.valid$days.sq <- (mydata.valid$Days)^2\n",
    "mydata.valid$floor.area.sq <- (mydata.valid$Total.floor.area)^2\n",
    "mydata.valid$age.sq <- (mydata.valid$Age)^2\n",
    "mydata.valid$lot.size.sq <- (mydata.valid$Lot.Size)^2 \n",
    "\n",
    "mydata.valid$days.fraction <- 1/(mydata.valid$Days)\n",
    "mydata.valid$floor.area.fraction <- 1/(mydata.valid$Total.floor.area)\n",
    "mydata.valid$age.fraction <- 1/(mydata.valid$Age)\n",
    "mydata.valid$lot.size.fraction <- 1/(mydata.valid$Lot.Size)\n",
    "\n",
    "mydata.valid$Price.log <- log(mydata.valid$Price)\n",
    "\n",
    "#back-transforming the y-variable to get accurate results\n",
    "predict.price <- exp(predict(z6, newdata=mydata.valid))\n",
    "predict.price"
   ]
  },
  {
   "cell_type": "code",
   "execution_count": 220,
   "metadata": {},
   "outputs": [
    {
     "data": {
      "text/html": [
       "<table>\n",
       "<thead><tr><th></th><th scope=col>Number</th><th scope=col>Address</th><th scope=col>List.Date</th><th scope=col>Price</th><th scope=col>Days.on.market</th><th scope=col>Total.floor.area</th><th scope=col>Year.Built</th><th scope=col>Age</th><th scope=col>Lot.Size</th><th scope=col>days.log</th><th scope=col>...</th><th scope=col>age.sq</th><th scope=col>lot.size.sq</th><th scope=col>days.fraction</th><th scope=col>floor.area.fraction</th><th scope=col>age.fraction</th><th scope=col>lot.size.fraction</th><th scope=col>Price.log</th><th scope=col>pred2</th><th scope=col>pred3</th><th scope=col>predict.price</th></tr></thead>\n",
       "<tbody>\n",
       "\t<tr><th scope=row>1043</th><td>1043                 </td><td>3432 E 23RD AVENUE   </td><td>6/11/2019            </td><td>1314000              </td><td> 43                  </td><td>2650                 </td><td>1966                 </td><td>53                   </td><td>3960                 </td><td>3.7841896            </td><td>...                  </td><td>2809                 </td><td>15681600             </td><td>0.023255814          </td><td>0.0003773585         </td><td>0.01886792           </td><td>0.0002525253         </td><td>14.08859             </td><td>1836188              </td><td>1805593              </td><td>1735528              </td></tr>\n",
       "\t<tr><th scope=row>1044</th><td>1044                 </td><td>3379 W 23RD AVENUE   </td><td>9/11/2019            </td><td>2175000              </td><td> 14                  </td><td>1636                 </td><td>1928                 </td><td>91                   </td><td>4026                 </td><td>2.7080502            </td><td>...                  </td><td>8281                 </td><td>16208676             </td><td>0.071428571          </td><td>0.0006112469         </td><td>0.01098901           </td><td>0.0002483855         </td><td>14.59254             </td><td>1434501              </td><td>1447124              </td><td>1374462              </td></tr>\n",
       "\t<tr><th scope=row>1045</th><td>1045                 </td><td>5597 INVERNESS STREET</td><td>3/4/2019             </td><td>1950000              </td><td>145                  </td><td>2964                 </td><td>2012                 </td><td> 7                   </td><td>4125                 </td><td>4.9836066            </td><td>...                  </td><td>  49                 </td><td>17015625             </td><td>0.006896552          </td><td>0.0003373819         </td><td>0.14285714           </td><td>0.0002424242         </td><td>14.48334             </td><td>1962726              </td><td>2050708              </td><td>1918900              </td></tr>\n",
       "\t<tr><th scope=row>1046</th><td>1046                 </td><td>3427 MONS DRIVE      </td><td>11/6/2019            </td><td>1210000              </td><td>  1                  </td><td>1446                 </td><td>1948                 </td><td>71                   </td><td>4510                 </td><td>0.6931472            </td><td>...                  </td><td>5041                 </td><td>20340100             </td><td>1.000000000          </td><td>0.0006915629         </td><td>0.01408451           </td><td>0.0002217295         </td><td>14.00613             </td><td>1389088              </td><td>1437464              </td><td>1383847              </td></tr>\n",
       "\t<tr><th scope=row>1047</th><td>1047                 </td><td>3492 E 49TH AVENUE   </td><td>3/12/2020            </td><td>1360000              </td><td> 47                  </td><td>2782                 </td><td>1972                 </td><td>48                   </td><td>4845                 </td><td>3.8712010            </td><td>...                  </td><td>2304                 </td><td>23474025             </td><td>0.021276596          </td><td>0.0003594536         </td><td>0.02083333           </td><td>0.0002063983         </td><td>14.12300             </td><td>1965782              </td><td>1931640              </td><td>1868527              </td></tr>\n",
       "\t<tr><th scope=row>1048</th><td>1048                 </td><td>6282 WINDSOR STREET  </td><td>12/10/2019           </td><td>1380000              </td><td>  8                  </td><td>1876                 </td><td>1953                 </td><td>66                   </td><td>4026                 </td><td>2.1972246            </td><td>...                  </td><td>4356                 </td><td>16208676             </td><td>0.125000000          </td><td>0.0005330490         </td><td>0.01515152           </td><td>0.0002483855         </td><td>14.13759             </td><td>1540597              </td><td>1549357              </td><td>1492507              </td></tr>\n",
       "</tbody>\n",
       "</table>\n"
      ],
      "text/latex": [
       "\\begin{tabular}{r|lllllllllllllllllllllllllllll}\n",
       "  & Number & Address & List.Date & Price & Days.on.market & Total.floor.area & Year.Built & Age & Lot.Size & days.log & ... & age.sq & lot.size.sq & days.fraction & floor.area.fraction & age.fraction & lot.size.fraction & Price.log & pred2 & pred3 & predict.price\\\\\n",
       "\\hline\n",
       "\t1043 & 1043                  & 3432 E 23RD AVENUE    & 6/11/2019             & 1314000               &  43                   & 2650                  & 1966                  & 53                    & 3960                  & 3.7841896             & ...                   & 2809                  & 15681600              & 0.023255814           & 0.0003773585          & 0.01886792            & 0.0002525253          & 14.08859              & 1836188               & 1805593               & 1735528              \\\\\n",
       "\t1044 & 1044                  & 3379 W 23RD AVENUE    & 9/11/2019             & 2175000               &  14                   & 1636                  & 1928                  & 91                    & 4026                  & 2.7080502             & ...                   & 8281                  & 16208676              & 0.071428571           & 0.0006112469          & 0.01098901            & 0.0002483855          & 14.59254              & 1434501               & 1447124               & 1374462              \\\\\n",
       "\t1045 & 1045                  & 5597 INVERNESS STREET & 3/4/2019              & 1950000               & 145                   & 2964                  & 2012                  &  7                    & 4125                  & 4.9836066             & ...                   &   49                  & 17015625              & 0.006896552           & 0.0003373819          & 0.14285714            & 0.0002424242          & 14.48334              & 1962726               & 2050708               & 1918900              \\\\\n",
       "\t1046 & 1046                  & 3427 MONS DRIVE       & 11/6/2019             & 1210000               &   1                   & 1446                  & 1948                  & 71                    & 4510                  & 0.6931472             & ...                   & 5041                  & 20340100              & 1.000000000           & 0.0006915629          & 0.01408451            & 0.0002217295          & 14.00613              & 1389088               & 1437464               & 1383847              \\\\\n",
       "\t1047 & 1047                  & 3492 E 49TH AVENUE    & 3/12/2020             & 1360000               &  47                   & 2782                  & 1972                  & 48                    & 4845                  & 3.8712010             & ...                   & 2304                  & 23474025              & 0.021276596           & 0.0003594536          & 0.02083333            & 0.0002063983          & 14.12300              & 1965782               & 1931640               & 1868527              \\\\\n",
       "\t1048 & 1048                  & 6282 WINDSOR STREET   & 12/10/2019            & 1380000               &   8                   & 1876                  & 1953                  & 66                    & 4026                  & 2.1972246             & ...                   & 4356                  & 16208676              & 0.125000000           & 0.0005330490          & 0.01515152            & 0.0002483855          & 14.13759              & 1540597               & 1549357               & 1492507              \\\\\n",
       "\\end{tabular}\n"
      ],
      "text/markdown": [
       "\n",
       "| <!--/--> | Number | Address | List.Date | Price | Days.on.market | Total.floor.area | Year.Built | Age | Lot.Size | days.log | ... | age.sq | lot.size.sq | days.fraction | floor.area.fraction | age.fraction | lot.size.fraction | Price.log | pred2 | pred3 | predict.price |\n",
       "|---|---|---|---|---|---|---|---|---|---|---|---|---|---|---|---|---|---|---|---|---|---|\n",
       "| 1043 | 1043                  | 3432 E 23RD AVENUE    | 6/11/2019             | 1314000               |  43                   | 2650                  | 1966                  | 53                    | 3960                  | 3.7841896             | ...                   | 2809                  | 15681600              | 0.023255814           | 0.0003773585          | 0.01886792            | 0.0002525253          | 14.08859              | 1836188               | 1805593               | 1735528               |\n",
       "| 1044 | 1044                  | 3379 W 23RD AVENUE    | 9/11/2019             | 2175000               |  14                   | 1636                  | 1928                  | 91                    | 4026                  | 2.7080502             | ...                   | 8281                  | 16208676              | 0.071428571           | 0.0006112469          | 0.01098901            | 0.0002483855          | 14.59254              | 1434501               | 1447124               | 1374462               |\n",
       "| 1045 | 1045                  | 5597 INVERNESS STREET | 3/4/2019              | 1950000               | 145                   | 2964                  | 2012                  |  7                    | 4125                  | 4.9836066             | ...                   |   49                  | 17015625              | 0.006896552           | 0.0003373819          | 0.14285714            | 0.0002424242          | 14.48334              | 1962726               | 2050708               | 1918900               |\n",
       "| 1046 | 1046                  | 3427 MONS DRIVE       | 11/6/2019             | 1210000               |   1                   | 1446                  | 1948                  | 71                    | 4510                  | 0.6931472             | ...                   | 5041                  | 20340100              | 1.000000000           | 0.0006915629          | 0.01408451            | 0.0002217295          | 14.00613              | 1389088               | 1437464               | 1383847               |\n",
       "| 1047 | 1047                  | 3492 E 49TH AVENUE    | 3/12/2020             | 1360000               |  47                   | 2782                  | 1972                  | 48                    | 4845                  | 3.8712010             | ...                   | 2304                  | 23474025              | 0.021276596           | 0.0003594536          | 0.02083333            | 0.0002063983          | 14.12300              | 1965782               | 1931640               | 1868527               |\n",
       "| 1048 | 1048                  | 6282 WINDSOR STREET   | 12/10/2019            | 1380000               |   8                   | 1876                  | 1953                  | 66                    | 4026                  | 2.1972246             | ...                   | 4356                  | 16208676              | 0.125000000           | 0.0005330490          | 0.01515152            | 0.0002483855          | 14.13759              | 1540597               | 1549357               | 1492507               |\n",
       "\n"
      ],
      "text/plain": [
       "     Number Address               List.Date  Price   Days.on.market\n",
       "1043 1043   3432 E 23RD AVENUE    6/11/2019  1314000  43           \n",
       "1044 1044   3379 W 23RD AVENUE    9/11/2019  2175000  14           \n",
       "1045 1045   5597 INVERNESS STREET 3/4/2019   1950000 145           \n",
       "1046 1046   3427 MONS DRIVE       11/6/2019  1210000   1           \n",
       "1047 1047   3492 E 49TH AVENUE    3/12/2020  1360000  47           \n",
       "1048 1048   6282 WINDSOR STREET   12/10/2019 1380000   8           \n",
       "     Total.floor.area Year.Built Age Lot.Size days.log  ... age.sq lot.size.sq\n",
       "1043 2650             1966       53  3960     3.7841896 ... 2809   15681600   \n",
       "1044 1636             1928       91  4026     2.7080502 ... 8281   16208676   \n",
       "1045 2964             2012        7  4125     4.9836066 ...   49   17015625   \n",
       "1046 1446             1948       71  4510     0.6931472 ... 5041   20340100   \n",
       "1047 2782             1972       48  4845     3.8712010 ... 2304   23474025   \n",
       "1048 1876             1953       66  4026     2.1972246 ... 4356   16208676   \n",
       "     days.fraction floor.area.fraction age.fraction lot.size.fraction Price.log\n",
       "1043 0.023255814   0.0003773585        0.01886792   0.0002525253      14.08859 \n",
       "1044 0.071428571   0.0006112469        0.01098901   0.0002483855      14.59254 \n",
       "1045 0.006896552   0.0003373819        0.14285714   0.0002424242      14.48334 \n",
       "1046 1.000000000   0.0006915629        0.01408451   0.0002217295      14.00613 \n",
       "1047 0.021276596   0.0003594536        0.02083333   0.0002063983      14.12300 \n",
       "1048 0.125000000   0.0005330490        0.01515152   0.0002483855      14.13759 \n",
       "     pred2   pred3   predict.price\n",
       "1043 1836188 1805593 1735528      \n",
       "1044 1434501 1447124 1374462      \n",
       "1045 1962726 2050708 1918900      \n",
       "1046 1389088 1437464 1383847      \n",
       "1047 1965782 1931640 1868527      \n",
       "1048 1540597 1549357 1492507      "
      ]
     },
     "metadata": {},
     "output_type": "display_data"
    }
   ],
   "source": [
    "mydata.valid2 <- as.data.frame(cbind(mydata.valid, predict.price))\n",
    "head(mydata.valid2)"
   ]
  },
  {
   "cell_type": "code",
   "execution_count": 221,
   "metadata": {},
   "outputs": [],
   "source": [
    "mydata.valid2$errors.price <- mydata.valid2$Price - mydata.valid2$predict.price"
   ]
  },
  {
   "cell_type": "code",
   "execution_count": 222,
   "metadata": {},
   "outputs": [
    {
     "data": {
      "text/html": [
       "442772.52470717"
      ],
      "text/latex": [
       "442772.52470717"
      ],
      "text/markdown": [
       "442772.52470717"
      ],
      "text/plain": [
       "[1] 442772.5"
      ]
     },
     "metadata": {},
     "output_type": "display_data"
    },
    {
     "data": {
      "text/html": [
       "350556.735489045"
      ],
      "text/latex": [
       "350556.735489045"
      ],
      "text/markdown": [
       "350556.735489045"
      ],
      "text/plain": [
       "[1] 350556.7"
      ]
     },
     "metadata": {},
     "output_type": "display_data"
    }
   ],
   "source": [
    "RMSE.price <- sqrt(sum(mydata.valid2$errors.price^2)/nrow(mydata.valid2)); RMSE.price\n",
    "MAE.price <- sum(abs(mydata.valid2$errors.price))/nrow(mydata.valid2); MAE.price"
   ]
  },
  {
   "cell_type": "markdown",
   "metadata": {},
   "source": [
    "---\n",
    "<a id=\"Compare\"></a>\n",
    "## Comparing to other candidate models (1 mark for models A and B being appropriate for the data)\n",
    "Compare the MAE and root MSE (for the validation set) from your final model to these values for at least two other candidate models (include the code for these models at the end of this notebook). If you transformed the y-variable, get predicted values back in the original units prior to calculating these.\n",
    "\n",
    "Include your results in the table below (add more rows if you would like):\n",
    "\n",
    "| Model | MAE | root MSE | model statement|\n",
    "|------|------|------|------|\n",
    "| Final model | 350556 | 442772 | Price.log ~ floor.area.sqrt + lot.size.log + days.sqrt + age.sqrt+lot.size.log * days.sqrt+lot.size.log * age.sqrt|\n",
    "| Model A | 1759590 | 1850450 | Price.log ~ floor.area.sqrt + lot.size.log + days.sqrt + age.sqrt+floor.area.sqrt * lot.size.log+floor.area.sqrt * days.sqrt+floor.area.sqrt*age.sqrt+lot.size.log * days.sqrt+lot.size.log * age.sqrt+days.sqrt * age.sqrt |\n",
    "| Model B | 370727 | 453915 | Price ~ Total.floor.area + Lot.Size + Days.on.market +  Age |\n",
    "\n",
    "**Write the model statement (which you used in the lm function) for each of your candidate models by replacing the model statements in the table above. Make it clear how each variable was transformed.**  \n",
    "\n"
   ]
  },
  {
   "cell_type": "code",
   "execution_count": 223,
   "metadata": {},
   "outputs": [
    {
     "data": {
      "text/html": [
       "1850449.63113086"
      ],
      "text/latex": [
       "1850449.63113086"
      ],
      "text/markdown": [
       "1850449.63113086"
      ],
      "text/plain": [
       "[1] 1850450"
      ]
     },
     "metadata": {},
     "output_type": "display_data"
    },
    {
     "data": {
      "text/html": [
       "1759589.75419482"
      ],
      "text/latex": [
       "1759589.75419482"
      ],
      "text/markdown": [
       "1759589.75419482"
      ],
      "text/plain": [
       "[1] 1759590"
      ]
     },
     "metadata": {},
     "output_type": "display_data"
    }
   ],
   "source": [
    "#for model Z5\n",
    "predict.price2 <- predict(z5, newdata=mydata.valid)\n",
    "mydata.valid3 <- as.data.frame(cbind(mydata.valid, predict.price2))\n",
    "mydata.valid3$errors.price2 <- mydata.valid3$Price - mydata.valid3$predict.price2\n",
    "RMSE.price2 <- sqrt(sum(mydata.valid3$errors.price2^2)/nrow(mydata.valid3)); RMSE.price2\n",
    "MAE.price2 <- sum(abs(mydata.valid3$errors.price2))/nrow(mydata.valid3); MAE.price2"
   ]
  },
  {
   "cell_type": "code",
   "execution_count": 227,
   "metadata": {},
   "outputs": [
    {
     "data": {
      "text/html": [
       "453914.958937934"
      ],
      "text/latex": [
       "453914.958937934"
      ],
      "text/markdown": [
       "453914.958937934"
      ],
      "text/plain": [
       "[1] 453915"
      ]
     },
     "metadata": {},
     "output_type": "display_data"
    },
    {
     "data": {
      "text/html": [
       "370727.233115019"
      ],
      "text/latex": [
       "370727.233115019"
      ],
      "text/markdown": [
       "370727.233115019"
      ],
      "text/plain": [
       "[1] 370727.2"
      ]
     },
     "metadata": {},
     "output_type": "display_data"
    }
   ],
   "source": [
    "#for model Z4\n",
    "predict.price3 <- predict(z4, newdata=mydata.valid)\n",
    "mydata.valid4 <- as.data.frame(cbind(mydata.valid, predict.price3))\n",
    "mydata.valid4$errors.price3 <- mydata.valid4$Price - mydata.valid4$predict.price3\n",
    "RMSE.price3 <- sqrt(sum(mydata.valid4$errors.price3^2)/nrow(mydata.valid4)); RMSE.price3\n",
    "MAE.price3 <- sum(abs(mydata.valid4$errors.price3))/nrow(mydata.valid4); MAE.price3"
   ]
  },
  {
   "cell_type": "markdown",
   "metadata": {},
   "source": [
    "---\n",
    "<a id=\"Discussion\"></a>\n",
    "# Discussion (400 words max.) (6 marks)\n",
    "How well does your final model address the goal of the analysis? What are the strengths and limitations of your final model? What are some recommendations to address the limitations of your final model?  \n",
    "If you include any references, please put the bibliographical information (APA style) at the end of your discussion; this does not contribute to the word count.\n"
   ]
  },
  {
   "cell_type": "markdown",
   "metadata": {},
   "source": [
    "### Final model addressing the goals of the analysis\n",
    "Our final model (z6) addresses a variety of factors needed for a linear regression model to be successful- the most important one of them being- achieving linearity. Our model takes into consideration only the best transformed variables. We considered the association of various explanatory variables, with and without transformations- ensuring that we had exhaustively and carefully checked for the linearity. Our model, hence, address the goal of the analysis which is to ensure that we get the best fitted regression line, which is neither over nor under fitted.\n",
    "\n",
    "### Strengths of our model\n",
    "1.\tThe higher the R-squared value, the better the model as the R-squared value represents goodness of fit. There is a stronger correlation when there is a higher r-squared value. Our model has a ~0.41 R-squared value which makes it a good regression model.\n",
    "2.\tWhen are talking about multi-collinearity, we should also talk about the pseudo-R squared value. A value between 0.2 and 0.4 [1] for a linear regression model is considered to be an excellent fit. Our model has a pseudo-R squared of 0.384, suggesting great fit.\n",
    "3.\tOur model has a low Mean Absolute Error and Root Mean Squared Error (MAE and RMSE) values, as compared to our other candidate models as well. Post prediction, we again checked our MAE and RMSE values against the predicted data values and our model outperforms other candidate models, even here\n",
    "\n",
    "### Limitations of our model\n",
    "Our model uses a plethora of transformations to achieve its success. For example, we have transformed our response variable, Price, in a log transformation. When looking at the predictions, we need to be careful in back transforming the variable by taking an exponential, so we get the accurate results. Because of such transformations, we have introduced complexity in our model and when using the model, it can feel tricky to use some of the variables. It might also be complex to understand, on the face of it, why some transformations are made the way they are, without having prior knowledge of the other candidate models.\n",
    "\n",
    "\n",
    "##### References\n",
    "##### [1]: https://stats.stackexchange.com/questions/82105/mcfaddens-pseudo-r2-interpretation"
   ]
  },
  {
   "cell_type": "markdown",
   "metadata": {},
   "source": [
    "---\n",
    "<a id=\"Transformations\"></a>\n",
    "# Visualizing appropriate transformations (1 mark)\n"
   ]
  },
  {
   "cell_type": "code",
   "execution_count": 231,
   "metadata": {},
   "outputs": [
    {
     "data": {
      "image/png": "[encoded data removed]",
      "text/plain": [
       "plot without title"
      ]
     },
     "metadata": {},
     "output_type": "display_data"
    }
   ],
   "source": [
    "# Include the code for visualizing appropriate transformations of the variables here\n",
    "#scatter plot for final model\n",
    "par(mfrow=c(2,3))\n",
    "interaction_1 = mydata.train$lot.size.log * mydata.train$days.sqrt\n",
    "interaction_2 = mydata.train$lot.size.sqrt * mydata.train$age.sqrt\n",
    "plot(mydata.train$Price.log ~ mydata.train$floor.area.sqrt + mydata.train$lot.size.log + mydata.train$days.sqrt + mydata.train$age.sqrt\n",
    "    + interaction_1\n",
    "    + interaction_2)\n"
   ]
  },
  {
   "cell_type": "markdown",
   "metadata": {},
   "source": [
    "---\n",
    "<a id=\"Other_models\"></a>\n",
    "# Other candidate models (3 marks)"
   ]
  },
  {
   "cell_type": "code",
   "execution_count": 232,
   "metadata": {},
   "outputs": [],
   "source": [
    "# Include the code for your other candidate models here.\n",
    "\n",
    "# Some of the other candidate models we took into consideration, are given below:\n",
    "\n",
    "# Candidate 1\n",
    "z1 <- lm(mydata.train$Price ~ mydata.train$floor.area.sqrt + mydata.train$lot.size.log, data = mydata.train)\n",
    "# Candidate 2\n",
    "z2 <- lm(mydata.train$Price ~ mydata.train$floor.area.sqrt + mydata.train$lot.size.log + mydata.train$floor.area.sqrt*mydata.train$lot.size.log, data = mydata.train)\n",
    "# Candidate 3\n",
    "z3 <- lm(mydata.train$Price ~ mydata.train$floor.area.sqrt + mydata.train$lot.size.log + mydata.train$days.sq +  mydata.train$age.sqrt \n",
    "         + mydata.train$floor.area.sqrt*mydata.train$lot.size.log\n",
    "         + mydata.train$lot.size.log   *mydata.train$days.sq\n",
    "         + mydata.train$age.sqrt       *mydata.train$floor.area.sqrt\n",
    "         + mydata.train$age.sqrt       *mydata.train$lot.size.log\n",
    "         + mydata.train$age.sqrt       * mydata.train$days.sqrt, \n",
    "         data = mydata.train)\n",
    "# Candidate 4\n",
    "z4 <- lm(mydata.train$Price ~ mydata.train$Total.floor.area + mydata.train$Lot.Size + mydata.train$Days +  mydata.train$Age, \n",
    "         data = mydata.train)\n",
    "# Candidate 5\n",
    "z5 <- lm(mydata.train$Price.log ~ mydata.train$floor.area.sqrt + mydata.train$lot.size.log + mydata.train$days.sqrt + mydata.train$age.sqrt\n",
    "         +mydata.train$floor.area.sqrt * mydata.train$lot.size.log\n",
    "         +mydata.train$floor.area.sqrt * mydata.train$days.sqrt\n",
    "         +mydata.train$floor.area.sqrt*mydata.train$age.sqrt\n",
    "         +mydata.train$lot.size.log * mydata.train$days.sqrt\n",
    "         +mydata.train$lot.size.log * mydata.train$age.sqrt\n",
    "         +mydata.train$days.sqrt * mydata.train$age.sqrt, \n",
    "         data = mydata.train)\n",
    "\n"
   ]
  },
  {
   "cell_type": "markdown",
   "metadata": {},
   "source": [
    "## Thank You!"
   ]
  },
  {
   "cell_type": "code",
   "execution_count": null,
   "metadata": {},
   "outputs": [],
   "source": []
  }
 ],
 "metadata": {
  "kernelspec": {
   "display_name": "R",
   "language": "R",
   "name": "ir"
  },
  "language_info": {
   "codemirror_mode": "r",
   "file_extension": ".r",
   "mimetype": "text/x-r-source",
   "name": "R",
   "pygments_lexer": "r",
   "version": "3.6.1"
  }
 },
 "nbformat": 4,
 "nbformat_minor": 4
}
